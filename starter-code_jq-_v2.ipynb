{
 "cells": [
  {
   "cell_type": "markdown",
   "metadata": {
    "focus": false,
    "id": "69b9a648-bcc7-490d-9f9b-ea244d156bd6"
   },
   "source": [
    "# Using Reddit's API for Predicting Comments"
   ]
  },
  {
   "cell_type": "markdown",
   "metadata": {
    "ExecuteTime": {
     "end_time": "2017-10-23T19:28:02.619411Z",
     "start_time": "2017-10-23T19:28:02.600856Z"
    }
   },
   "source": [
    "In this project, we will practice two major skills. Collecting data via an API request and then building a binary predictor.\n",
    "\n",
    "As we discussed in week 2, and earlier today, there are two components to starting a data science problem: the problem statement, and acquiring the data.\n",
    "\n",
    "For this article, your problem statement will be: _What characteristics of a post on Reddit contribute most to the overall interaction (as measured by number of comments)?_\n",
    "\n",
    "Your method for acquiring the data will be scraping the 'hot' threads as listed on the [Reddit homepage](https://www.reddit.com/). You'll acquire _AT LEAST FOUR_ pieces of information about each thread:\n",
    "1. The title of the thread\n",
    "2. The subreddit that the thread corresponds to\n",
    "3. The length of time it has been up on Reddit\n",
    "4. The number of comments on the thread\n",
    "\n",
    "Once you've got the data, you will build a classification model that, using Natural Language Processing and any other relevant features, predicts whether or not a given Reddit post will have above or below the _median_ number of comments.\n",
    "\n",
    "**BONUS PROBLEMS**\n",
    "1. If creating a logistic regression, GridSearch Ridge and Lasso for this model and report the best hyperparameter values.\n",
    "1. Scrape the actual text of the threads using Selenium (you'll learn about this in Webscraping II).\n",
    "2. Write the actual article that you're pitching and turn it into a blog post that you host on your personal website."
   ]
  },
  {
   "cell_type": "markdown",
   "metadata": {
    "focus": false,
    "id": "a948d79c-5527-4c0d-ab23-f5d43ce72056"
   },
   "source": [
    "### Scraping Thread Info from Reddit.com"
   ]
  },
  {
   "cell_type": "markdown",
   "metadata": {},
   "source": [
    "#### Set up a request (using requests) to reddit."
   ]
  },
  {
   "cell_type": "code",
   "execution_count": 1,
   "metadata": {},
   "outputs": [],
   "source": [
    "## IMPORT FEST\n",
    "import requests\n",
    "import json\n",
    "from bs4 import BeautifulSoup\n",
    "import time\n",
    "import praw\n",
    "from requests import Session\n",
    "import datetime\n",
    "import pandas as pd\n",
    "import numpy as np\n",
    "import re"
   ]
  },
  {
   "cell_type": "code",
   "execution_count": 17,
   "metadata": {},
   "outputs": [],
   "source": [
    "## instantiating connection to reddit using PRAW\n",
    "## (Python Reddit API Wrapper)\n",
    "\n",
    "reddit = praw.Reddit(client_id='I2zMPCz0mPKWTw',\n",
    "                     client_secret='cRezqYRNxfgWEbx8rlKhKTvxdwQ',\n",
    "                     password='mydevPw0rd',\n",
    "                     user_agent='DSI project by Qbot',\n",
    "                     username='jqdevaccount')"
   ]
  },
  {
   "cell_type": "code",
   "execution_count": 19,
   "metadata": {},
   "outputs": [
    {
     "name": "stdout",
     "output_type": "stream",
     "text": [
      "jqdevaccount\n"
     ]
    }
   ],
   "source": [
    "print(reddit.user.me())"
   ]
  },
  {
   "cell_type": "code",
   "execution_count": 18,
   "metadata": {},
   "outputs": [],
   "source": [
    "def age_of_post(submission):\n",
    "    now = time.mktime(datetime.datetime.now().timetuple())\n",
    "    return now - submission.created_utc"
   ]
  },
  {
   "cell_type": "markdown",
   "metadata": {},
   "source": [
    "#### Trying this again. Doing r/nba only.\n",
    "- Pulling top 1K posts.\n",
    "- Pulling post ID to link to comments DataFrame, which will be a separate pull (since there are SO .. MANY .. COMMENTS)"
   ]
  },
  {
   "cell_type": "code",
   "execution_count": 124,
   "metadata": {
    "scrolled": false
   },
   "outputs": [],
   "source": [
    "titles = []\n",
    "num_comments = []\n",
    "post_age = []\n",
    "subreddit = []\n",
    "author = []\n",
    "is_self = []\n",
    "score = []\n",
    "stickied = []\n",
    "link_domain = []\n",
    "post_id = []\n",
    "\n",
    "num_posts = 1000\n",
    "\n",
    "sub = reddit.subreddit('nba')    \n",
    "\n",
    "for submission in sub.hot(limit=num_posts):\n",
    "    titles.append(submission.title)\n",
    "    num_comments.append(submission.num_comments)\n",
    "    post_age.append(age_of_post(submission))\n",
    "    author.append(submission.author)\n",
    "    is_self.append(int(submission.is_self))\n",
    "    score.append(submission.score)\n",
    "    stickied.append(int(submission.stickied))\n",
    "    link_domain.append(submission.domain)\n",
    "    post_id.append(submission.id)\n",
    "    time.sleep(1)\n",
    "    \n",
    "\n",
    "    "
   ]
  },
  {
   "cell_type": "code",
   "execution_count": 2,
   "metadata": {},
   "outputs": [
    {
     "ename": "NameError",
     "evalue": "name 'titles' is not defined",
     "output_type": "error",
     "traceback": [
      "\u001b[1;31m---------------------------------------------------------------------------\u001b[0m",
      "\u001b[1;31mNameError\u001b[0m                                 Traceback (most recent call last)",
      "\u001b[1;32m<ipython-input-2-029505dcbfd1>\u001b[0m in \u001b[0;36m<module>\u001b[1;34m()\u001b[0m\n\u001b[1;32m----> 1\u001b[1;33m rnba = pd.DataFrame(list(zip(titles, num_comments, post_age, author, \n\u001b[0m\u001b[0;32m      2\u001b[0m                      is_self, score, stickied, link_domain, post_id)), \n\u001b[0;32m      3\u001b[0m              columns=['title', 'num_comments', 'post_age', 'author', \n\u001b[0;32m      4\u001b[0m                      'self_post', 'score', 'stickied', 'link_domain', 'post_id'])\n\u001b[0;32m      5\u001b[0m \u001b[1;33m\u001b[0m\u001b[0m\n",
      "\u001b[1;31mNameError\u001b[0m: name 'titles' is not defined"
     ]
    }
   ],
   "source": [
    "rnba = pd.DataFrame(list(zip(titles, num_comments, post_age, author, \n",
    "                     is_self, score, stickied, link_domain, post_id)), \n",
    "             columns=['title', 'num_comments', 'post_age', 'author', \n",
    "                     'self_post', 'score', 'stickied', 'link_domain', 'post_id'])\n",
    "\n",
    "\n",
    "rnba.to_csv('./rnba_top1000.csv', index=False)"
   ]
  },
  {
   "cell_type": "code",
   "execution_count": 4,
   "metadata": {},
   "outputs": [
    {
     "data": {
      "text/html": [
       "<div>\n",
       "<style scoped>\n",
       "    .dataframe tbody tr th:only-of-type {\n",
       "        vertical-align: middle;\n",
       "    }\n",
       "\n",
       "    .dataframe tbody tr th {\n",
       "        vertical-align: top;\n",
       "    }\n",
       "\n",
       "    .dataframe thead th {\n",
       "        text-align: right;\n",
       "    }\n",
       "</style>\n",
       "<table border=\"1\" class=\"dataframe\">\n",
       "  <thead>\n",
       "    <tr style=\"text-align: right;\">\n",
       "      <th></th>\n",
       "      <th>title</th>\n",
       "      <th>num_comments</th>\n",
       "      <th>post_age</th>\n",
       "      <th>author</th>\n",
       "      <th>self_post</th>\n",
       "      <th>score</th>\n",
       "      <th>stickied</th>\n",
       "      <th>link_domain</th>\n",
       "      <th>post_id</th>\n",
       "    </tr>\n",
       "  </thead>\n",
       "  <tbody>\n",
       "    <tr>\n",
       "      <th>0</th>\n",
       "      <td>/r/NBA Index + Daily Discussion (05.29.2018)</td>\n",
       "      <td>275</td>\n",
       "      <td>48579.0</td>\n",
       "      <td>brexbre</td>\n",
       "      <td>1</td>\n",
       "      <td>44</td>\n",
       "      <td>1</td>\n",
       "      <td>self.nba</td>\n",
       "      <td>8mzbgk</td>\n",
       "    </tr>\n",
       "    <tr>\n",
       "      <th>1</th>\n",
       "      <td>[Serious Next Day Thread] The Golden State War...</td>\n",
       "      <td>1012</td>\n",
       "      <td>40638.0</td>\n",
       "      <td>DoesNotChodeWell</td>\n",
       "      <td>1</td>\n",
       "      <td>1273</td>\n",
       "      <td>1</td>\n",
       "      <td>self.nba</td>\n",
       "      <td>8n0c3n</td>\n",
       "    </tr>\n",
       "    <tr>\n",
       "      <th>2</th>\n",
       "      <td>The Curious Case of Bryan Colangelo and the Se...</td>\n",
       "      <td>895</td>\n",
       "      <td>8479.0</td>\n",
       "      <td>AdonalFoyle</td>\n",
       "      <td>0</td>\n",
       "      <td>3297</td>\n",
       "      <td>0</td>\n",
       "      <td>theringer.com</td>\n",
       "      <td>8n4gs5</td>\n",
       "    </tr>\n",
       "    <tr>\n",
       "      <th>3</th>\n",
       "      <td>The last two Sonics players in the NBA (KD and...</td>\n",
       "      <td>459</td>\n",
       "      <td>25326.0</td>\n",
       "      <td>okiedawg</td>\n",
       "      <td>0</td>\n",
       "      <td>6048</td>\n",
       "      <td>0</td>\n",
       "      <td>seattletimes.com</td>\n",
       "      <td>8n2evg</td>\n",
       "    </tr>\n",
       "    <tr>\n",
       "      <th>4</th>\n",
       "      <td>In an interview about whether players value wi...</td>\n",
       "      <td>225</td>\n",
       "      <td>17105.0</td>\n",
       "      <td>noahnierenberg</td>\n",
       "      <td>1</td>\n",
       "      <td>1693</td>\n",
       "      <td>0</td>\n",
       "      <td>self.nba</td>\n",
       "      <td>8n3h4u</td>\n",
       "    </tr>\n",
       "  </tbody>\n",
       "</table>\n",
       "</div>"
      ],
      "text/plain": [
       "                                               title  num_comments  post_age  \\\n",
       "0       /r/NBA Index + Daily Discussion (05.29.2018)           275   48579.0   \n",
       "1  [Serious Next Day Thread] The Golden State War...          1012   40638.0   \n",
       "2  The Curious Case of Bryan Colangelo and the Se...           895    8479.0   \n",
       "3  The last two Sonics players in the NBA (KD and...           459   25326.0   \n",
       "4  In an interview about whether players value wi...           225   17105.0   \n",
       "\n",
       "             author  self_post  score  stickied       link_domain post_id  \n",
       "0           brexbre          1     44         1          self.nba  8mzbgk  \n",
       "1  DoesNotChodeWell          1   1273         1          self.nba  8n0c3n  \n",
       "2       AdonalFoyle          0   3297         0     theringer.com  8n4gs5  \n",
       "3          okiedawg          0   6048         0  seattletimes.com  8n2evg  \n",
       "4    noahnierenberg          1   1693         0          self.nba  8n3h4u  "
      ]
     },
     "execution_count": 4,
     "metadata": {},
     "output_type": "execute_result"
    }
   ],
   "source": [
    "rnba = pd.read_csv('./rnba_top1000.csv')\n",
    "rnba.head()"
   ]
  },
  {
   "cell_type": "code",
   "execution_count": 2,
   "metadata": {},
   "outputs": [],
   "source": [
    "from nltk.corpus import stopwords\n",
    "\n",
    "def comments_clean(comment):\n",
    "    ##credit to Lesson 5.05_nlp_ii\n",
    "    \n",
    "    # Remove line breaks and punctuation\n",
    "    letters_only = re.sub(\"(^[\\r\\n]*|[\\r\\n]+)[\\s\\t]*[\\r\\n]+|[!$()=_+|;:\\\",.<>?]\",\" \", comment)\n",
    "    \n",
    "    # convert to lower, split into individual words\n",
    "    words = letters_only.lower().split()\n",
    "    \n",
    "    # removing stop words\n",
    "    stops = set(stopwords.words('english'))\n",
    "    meaningful_words = [w for w in words if not w in stops]\n",
    "    \n",
    "    # putting them back together\n",
    "    return(\" \".join(meaningful_words))"
   ]
  },
  {
   "cell_type": "code",
   "execution_count": 131,
   "metadata": {},
   "outputs": [
    {
     "data": {
      "text/plain": [
       "168.5"
      ]
     },
     "execution_count": 131,
     "metadata": {},
     "output_type": "execute_result"
    }
   ],
   "source": [
    "len(post_id) / 4"
   ]
  },
  {
   "cell_type": "code",
   "execution_count": 6,
   "metadata": {},
   "outputs": [],
   "source": [
    "post_id = rnba['post_id']"
   ]
  },
  {
   "cell_type": "markdown",
   "metadata": {},
   "source": [
    "#### Chunk #1: posts 1/4"
   ]
  },
  {
   "cell_type": "code",
   "execution_count": 328,
   "metadata": {},
   "outputs": [
    {
     "data": {
      "text/html": [
       "<div>\n",
       "<style scoped>\n",
       "    .dataframe tbody tr th:only-of-type {\n",
       "        vertical-align: middle;\n",
       "    }\n",
       "\n",
       "    .dataframe tbody tr th {\n",
       "        vertical-align: top;\n",
       "    }\n",
       "\n",
       "    .dataframe thead th {\n",
       "        text-align: right;\n",
       "    }\n",
       "</style>\n",
       "<table border=\"1\" class=\"dataframe\">\n",
       "  <thead>\n",
       "    <tr style=\"text-align: right;\">\n",
       "      <th></th>\n",
       "      <th>title</th>\n",
       "      <th>num_comments</th>\n",
       "      <th>post_age</th>\n",
       "      <th>author</th>\n",
       "      <th>self_post</th>\n",
       "      <th>score</th>\n",
       "      <th>stickied</th>\n",
       "      <th>link_domain</th>\n",
       "      <th>post_id</th>\n",
       "    </tr>\n",
       "  </thead>\n",
       "  <tbody>\n",
       "    <tr>\n",
       "      <th>0</th>\n",
       "      <td>/r/NBA Index + Daily Discussion (05.29.2018)</td>\n",
       "      <td>275</td>\n",
       "      <td>48579.0</td>\n",
       "      <td>brexbre</td>\n",
       "      <td>1</td>\n",
       "      <td>44</td>\n",
       "      <td>1</td>\n",
       "      <td>self.nba</td>\n",
       "      <td>8mzbgk</td>\n",
       "    </tr>\n",
       "    <tr>\n",
       "      <th>1</th>\n",
       "      <td>[Serious Next Day Thread] The Golden State War...</td>\n",
       "      <td>1012</td>\n",
       "      <td>40638.0</td>\n",
       "      <td>DoesNotChodeWell</td>\n",
       "      <td>1</td>\n",
       "      <td>1273</td>\n",
       "      <td>1</td>\n",
       "      <td>self.nba</td>\n",
       "      <td>8n0c3n</td>\n",
       "    </tr>\n",
       "    <tr>\n",
       "      <th>2</th>\n",
       "      <td>The Curious Case of Bryan Colangelo and the Se...</td>\n",
       "      <td>895</td>\n",
       "      <td>8479.0</td>\n",
       "      <td>AdonalFoyle</td>\n",
       "      <td>0</td>\n",
       "      <td>3297</td>\n",
       "      <td>0</td>\n",
       "      <td>theringer.com</td>\n",
       "      <td>8n4gs5</td>\n",
       "    </tr>\n",
       "    <tr>\n",
       "      <th>3</th>\n",
       "      <td>The last two Sonics players in the NBA (KD and...</td>\n",
       "      <td>459</td>\n",
       "      <td>25326.0</td>\n",
       "      <td>okiedawg</td>\n",
       "      <td>0</td>\n",
       "      <td>6048</td>\n",
       "      <td>0</td>\n",
       "      <td>seattletimes.com</td>\n",
       "      <td>8n2evg</td>\n",
       "    </tr>\n",
       "    <tr>\n",
       "      <th>4</th>\n",
       "      <td>In an interview about whether players value wi...</td>\n",
       "      <td>225</td>\n",
       "      <td>17105.0</td>\n",
       "      <td>noahnierenberg</td>\n",
       "      <td>1</td>\n",
       "      <td>1693</td>\n",
       "      <td>0</td>\n",
       "      <td>self.nba</td>\n",
       "      <td>8n3h4u</td>\n",
       "    </tr>\n",
       "  </tbody>\n",
       "</table>\n",
       "</div>"
      ],
      "text/plain": [
       "                                               title  num_comments  post_age  \\\n",
       "0       /r/NBA Index + Daily Discussion (05.29.2018)           275   48579.0   \n",
       "1  [Serious Next Day Thread] The Golden State War...          1012   40638.0   \n",
       "2  The Curious Case of Bryan Colangelo and the Se...           895    8479.0   \n",
       "3  The last two Sonics players in the NBA (KD and...           459   25326.0   \n",
       "4  In an interview about whether players value wi...           225   17105.0   \n",
       "\n",
       "             author  self_post  score  stickied       link_domain post_id  \n",
       "0           brexbre          1     44         1          self.nba  8mzbgk  \n",
       "1  DoesNotChodeWell          1   1273         1          self.nba  8n0c3n  \n",
       "2       AdonalFoyle          0   3297         0     theringer.com  8n4gs5  \n",
       "3          okiedawg          0   6048         0  seattletimes.com  8n2evg  \n",
       "4    noahnierenberg          1   1693         0          self.nba  8n3h4u  "
      ]
     },
     "execution_count": 328,
     "metadata": {},
     "output_type": "execute_result"
    }
   ],
   "source": [
    "rnba.head()"
   ]
  },
  {
   "cell_type": "code",
   "execution_count": 48,
   "metadata": {},
   "outputs": [],
   "source": [
    "comment_text = []\n",
    "comment_id = []\n",
    "comment_score = []\n",
    "author_flair = []\n",
    "gilded = []\n",
    "top_comment = []"
   ]
  },
  {
   "cell_type": "code",
   "execution_count": 157,
   "metadata": {
    "scrolled": false
   },
   "outputs": [],
   "source": [
    "id_list = post_id[:168]\n",
    "\n",
    "for ids in id_list:\n",
    "    submission = reddit.submission(id=ids)\n",
    "    submission.comments.replace_more(limit=None)\n",
    "    \n",
    "    for comment in submission.comments.list():\n",
    "        comment_text.append(comment.body)\n",
    "        comment_id.append(ids)\n",
    "        comment_score.append(comment.score)\n",
    "        author_flair.append(comment.author_flair_text)\n",
    "        gilded.append(comment.gilded)\n",
    "        top_comment.append(comment.is_root)\n",
    "        "
   ]
  },
  {
   "cell_type": "code",
   "execution_count": 158,
   "metadata": {},
   "outputs": [
    {
     "name": "stdout",
     "output_type": "stream",
     "text": [
      "102968\n",
      "102968\n"
     ]
    }
   ],
   "source": [
    "print(len(comment_text))\n",
    "print(len(author_flair))"
   ]
  },
  {
   "cell_type": "code",
   "execution_count": 159,
   "metadata": {},
   "outputs": [],
   "source": [
    "# dfcom1_4 = pd.DataFrame(list(zip(comment_id, comment_text, comment_score, author_flair, gilded, top_comment)),\n",
    "#                        columns= ['post_id', 'comment_text', 'comment_score', 'flair_text', 'gilded', 'top_comment'])\n",
    "\n",
    "# dfcom1_4.to_csv('./dfcom1_4.csv', index=False)"
   ]
  },
  {
   "cell_type": "code",
   "execution_count": 90,
   "metadata": {},
   "outputs": [],
   "source": [
    "dfcom1_4 = pd.read_csv('./dfcom1_4.csv')"
   ]
  },
  {
   "cell_type": "code",
   "execution_count": 110,
   "metadata": {},
   "outputs": [
    {
     "data": {
      "text/html": [
       "<div>\n",
       "<style scoped>\n",
       "    .dataframe tbody tr th:only-of-type {\n",
       "        vertical-align: middle;\n",
       "    }\n",
       "\n",
       "    .dataframe tbody tr th {\n",
       "        vertical-align: top;\n",
       "    }\n",
       "\n",
       "    .dataframe thead th {\n",
       "        text-align: right;\n",
       "    }\n",
       "</style>\n",
       "<table border=\"1\" class=\"dataframe\">\n",
       "  <thead>\n",
       "    <tr style=\"text-align: right;\">\n",
       "      <th></th>\n",
       "      <th>post_id</th>\n",
       "      <th>comment_text</th>\n",
       "      <th>comment_score</th>\n",
       "      <th>flair_text</th>\n",
       "      <th>gilded</th>\n",
       "      <th>top_comment</th>\n",
       "    </tr>\n",
       "  </thead>\n",
       "  <tbody>\n",
       "    <tr>\n",
       "      <th>5199</th>\n",
       "      <td>Harden selling an offensive foul and bell taki...</td>\n",
       "      <td>NaN</td>\n",
       "      <td>NaN</td>\n",
       "      <td>NaN</td>\n",
       "      <td>NaN</td>\n",
       "      <td>NaN</td>\n",
       "    </tr>\n",
       "    <tr>\n",
       "      <th>5200</th>\n",
       "      <td>That's what's embarrassing.</td>\n",
       "      <td>-17</td>\n",
       "      <td>NBA</td>\n",
       "      <td>0</td>\n",
       "      <td>False</td>\n",
       "      <td>NaN</td>\n",
       "    </tr>\n",
       "  </tbody>\n",
       "</table>\n",
       "</div>"
      ],
      "text/plain": [
       "                                                post_id comment_text  \\\n",
       "5199  Harden selling an offensive foul and bell taki...          NaN   \n",
       "5200                        That's what's embarrassing.          -17   \n",
       "\n",
       "     comment_score flair_text gilded top_comment  \n",
       "5199           NaN        NaN    NaN         NaN  \n",
       "5200           NBA          0  False         NaN  "
      ]
     },
     "execution_count": 110,
     "metadata": {},
     "output_type": "execute_result"
    }
   ],
   "source": [
    "dfcom1_4[~dfcom1_4['post_id'].str.contains('8')]"
   ]
  },
  {
   "cell_type": "code",
   "execution_count": 65,
   "metadata": {},
   "outputs": [],
   "source": [
    "# min_id = 7\n",
    "# max_id = 15\n",
    "# for i in range(len(id_list)):\n",
    "#     print(id_list[i+min_id])"
   ]
  },
  {
   "cell_type": "code",
   "execution_count": 64,
   "metadata": {
    "scrolled": false
   },
   "outputs": [
    {
     "name": "stdout",
     "output_type": "stream",
     "text": [
      "You've pulled comments from 1 thread(s) and it's been 6.0 seconds\n",
      "You've pulled comments from 4 thread(s) and it's been 85.0 seconds\n",
      "You've pulled comments from 7 thread(s) and it's been 138.0 seconds\n"
     ]
    }
   ],
   "source": [
    "## testing\n",
    "min_id = 7\n",
    "max_id = 15\n",
    "\n",
    "id_list = post_id[min_id:max_id]\n",
    "\n",
    "now = time.mktime(datetime.datetime.now().timetuple())\n",
    "\n",
    "for i in range(len(id_list)):\n",
    "    ids = i+min_id\n",
    "    submission = reddit.submission(id=id_list[ids])\n",
    "    submission.comments.replace_more(limit=None)\n",
    "    \n",
    "    for comment in submission.comments.list():\n",
    "        comment_text.append(comment.body)\n",
    "        comment_id.append(id_list[ids])\n",
    "        comment_score.append(comment.score)\n",
    "        author_flair.append(comment.author_flair_text)\n",
    "        gilded.append(comment.gilded)\n",
    "        top_comment.append(comment.is_root)\n",
    "        \n",
    "    if i % 3 == 0:\n",
    "        print('You\\'ve pulled comments from',i+1,'thread(s) and it\\'s been',(time.mktime(datetime.datetime.now().timetuple()) - now),'seconds')"
   ]
  },
  {
   "cell_type": "code",
   "execution_count": 143,
   "metadata": {
    "scrolled": true
   },
   "outputs": [
    {
     "data": {
      "text/plain": [
       "0.15565031982942432"
      ]
     },
     "execution_count": 143,
     "metadata": {},
     "output_type": "execute_result"
    }
   ],
   "source": [
    "sum(top_comment) / len(top_comment)"
   ]
  },
  {
   "cell_type": "code",
   "execution_count": 146,
   "metadata": {},
   "outputs": [
    {
     "data": {
      "text/plain": [
       "168.5"
      ]
     },
     "execution_count": 146,
     "metadata": {},
     "output_type": "execute_result"
    }
   ],
   "source": [
    "len(post_id) / 4"
   ]
  },
  {
   "cell_type": "code",
   "execution_count": 149,
   "metadata": {},
   "outputs": [
    {
     "data": {
      "text/plain": [
       "505"
      ]
     },
     "execution_count": 149,
     "metadata": {},
     "output_type": "execute_result"
    }
   ],
   "source": [
    "169+168+168"
   ]
  },
  {
   "cell_type": "markdown",
   "metadata": {},
   "source": [
    "#### Chunk #2: posts 2/4"
   ]
  },
  {
   "cell_type": "code",
   "execution_count": 154,
   "metadata": {},
   "outputs": [
    {
     "name": "stdout",
     "output_type": "stream",
     "text": [
      "168\n",
      "169\n",
      "168\n",
      "169\n"
     ]
    }
   ],
   "source": [
    "print(len(post_id[:168]))\n",
    "print(len(post_id[168:337]))\n",
    "print(len(post_id[337:505]))\n",
    "print(len(post_id[505:]))"
   ]
  },
  {
   "cell_type": "code",
   "execution_count": 162,
   "metadata": {},
   "outputs": [
    {
     "name": "stdout",
     "output_type": "stream",
     "text": [
      "8mxjre\n",
      "8mxjre\n"
     ]
    }
   ],
   "source": [
    "id_list = post_id[168:337]\n",
    "print(post_id[168])\n",
    "print(id_list[0])"
   ]
  },
  {
   "cell_type": "code",
   "execution_count": 66,
   "metadata": {},
   "outputs": [],
   "source": [
    "comment_text = []\n",
    "comment_id = []\n",
    "comment_score = []\n",
    "author_flair = []\n",
    "gilded = []\n",
    "top_comment = []"
   ]
  },
  {
   "cell_type": "code",
   "execution_count": 67,
   "metadata": {},
   "outputs": [
    {
     "name": "stdout",
     "output_type": "stream",
     "text": [
      "You've pulled comments from 1 thread(s) and it's been 1.0 seconds\n",
      "You've pulled comments from 11 thread(s) and it's been 17.0 seconds\n",
      "You've pulled comments from 21 thread(s) and it's been 34.0 seconds\n",
      "You've pulled comments from 31 thread(s) and it's been 47.0 seconds\n",
      "You've pulled comments from 41 thread(s) and it's been 57.0 seconds\n",
      "You've pulled comments from 51 thread(s) and it's been 66.0 seconds\n",
      "You've pulled comments from 61 thread(s) and it's been 77.0 seconds\n",
      "You've pulled comments from 71 thread(s) and it's been 87.0 seconds\n",
      "You've pulled comments from 81 thread(s) and it's been 100.0 seconds\n",
      "You've pulled comments from 91 thread(s) and it's been 110.0 seconds\n",
      "You've pulled comments from 101 thread(s) and it's been 120.0 seconds\n",
      "You've pulled comments from 111 thread(s) and it's been 132.0 seconds\n",
      "You've pulled comments from 121 thread(s) and it's been 142.0 seconds\n",
      "You've pulled comments from 131 thread(s) and it's been 150.0 seconds\n",
      "You've pulled comments from 141 thread(s) and it's been 920.0 seconds\n",
      "You've pulled comments from 151 thread(s) and it's been 1082.0 seconds\n",
      "You've pulled comments from 161 thread(s) and it's been 1256.0 seconds\n"
     ]
    }
   ],
   "source": [
    "## chunk2\n",
    "min_id = 168\n",
    "max_id = 337\n",
    "\n",
    "id_list = post_id[min_id:max_id]\n",
    "\n",
    "now = time.mktime(datetime.datetime.now().timetuple())\n",
    "\n",
    "for i in range(len(id_list)):\n",
    "    ids = i+min_id\n",
    "    submission = reddit.submission(id=id_list[ids])\n",
    "    submission.comments.replace_more(limit=None)\n",
    "    \n",
    "    for comment in submission.comments.list():\n",
    "        comment_text.append(comment.body)\n",
    "        comment_id.append(id_list[ids])\n",
    "        comment_score.append(comment.score)\n",
    "        author_flair.append(comment.author_flair_text)\n",
    "        gilded.append(comment.gilded)\n",
    "        top_comment.append(comment.is_root)\n",
    "        \n",
    "    if i % 10 == 0:\n",
    "        print('You\\'ve pulled comments from',i+1,'thread(s) and it\\'s been',(time.mktime(datetime.datetime.now().timetuple()) - now),'seconds')"
   ]
  },
  {
   "cell_type": "code",
   "execution_count": 69,
   "metadata": {},
   "outputs": [],
   "source": [
    "dfcom2_4 = pd.DataFrame(list(zip(comment_id, comment_text, comment_score, author_flair, gilded, top_comment)),\n",
    "                       columns= ['post_id', 'comment_text', 'comment_score', 'flair_text', 'gilded', 'top_comment'])\n",
    "\n",
    "dfcom2_4.to_csv('./dfcom2_4.csv', index=False)"
   ]
  },
  {
   "cell_type": "code",
   "execution_count": 111,
   "metadata": {},
   "outputs": [
    {
     "data": {
      "text/html": [
       "<div>\n",
       "<style scoped>\n",
       "    .dataframe tbody tr th:only-of-type {\n",
       "        vertical-align: middle;\n",
       "    }\n",
       "\n",
       "    .dataframe tbody tr th {\n",
       "        vertical-align: top;\n",
       "    }\n",
       "\n",
       "    .dataframe thead th {\n",
       "        text-align: right;\n",
       "    }\n",
       "</style>\n",
       "<table border=\"1\" class=\"dataframe\">\n",
       "  <thead>\n",
       "    <tr style=\"text-align: right;\">\n",
       "      <th></th>\n",
       "      <th>post_id</th>\n",
       "      <th>comment_text</th>\n",
       "      <th>comment_score</th>\n",
       "      <th>flair_text</th>\n",
       "      <th>gilded</th>\n",
       "      <th>top_comment</th>\n",
       "    </tr>\n",
       "  </thead>\n",
       "  <tbody>\n",
       "  </tbody>\n",
       "</table>\n",
       "</div>"
      ],
      "text/plain": [
       "Empty DataFrame\n",
       "Columns: [post_id, comment_text, comment_score, flair_text, gilded, top_comment]\n",
       "Index: []"
      ]
     },
     "execution_count": 111,
     "metadata": {},
     "output_type": "execute_result"
    }
   ],
   "source": [
    "dfcom2_4[~dfcom2_4['post_id'].str.contains('8')]"
   ]
  },
  {
   "cell_type": "code",
   "execution_count": 112,
   "metadata": {},
   "outputs": [
    {
     "data": {
      "text/plain": [
       "168"
      ]
     },
     "execution_count": 112,
     "metadata": {},
     "output_type": "execute_result"
    }
   ],
   "source": [
    "dfcom2_4.post_id.nunique()"
   ]
  },
  {
   "cell_type": "markdown",
   "metadata": {},
   "source": [
    "#### Chunk #3: posts 3/4"
   ]
  },
  {
   "cell_type": "code",
   "execution_count": 71,
   "metadata": {
    "scrolled": false
   },
   "outputs": [
    {
     "name": "stdout",
     "output_type": "stream",
     "text": [
      "You've pulled comments from 1 out of 168 thread(s) and it's taken 0.0 seconds\n",
      "You've pulled comments from 11 out of 168 thread(s) and it's taken 16.0 seconds\n",
      "You've pulled comments from 21 out of 168 thread(s) and it's taken 23.0 seconds\n",
      "You've pulled comments from 31 out of 168 thread(s) and it's taken 71.0 seconds\n",
      "You've pulled comments from 41 out of 168 thread(s) and it's taken 198.0 seconds\n",
      "You've pulled comments from 51 out of 168 thread(s) and it's taken 313.0 seconds\n",
      "You've pulled comments from 61 out of 168 thread(s) and it's taken 327.0 seconds\n",
      "You've pulled comments from 71 out of 168 thread(s) and it's taken 353.0 seconds\n",
      "You've pulled comments from 81 out of 168 thread(s) and it's taken 394.0 seconds\n",
      "You've pulled comments from 91 out of 168 thread(s) and it's taken 410.0 seconds\n",
      "You've pulled comments from 101 out of 168 thread(s) and it's taken 425.0 seconds\n",
      "You've pulled comments from 111 out of 168 thread(s) and it's taken 536.0 seconds\n",
      "You've pulled comments from 121 out of 168 thread(s) and it's taken 557.0 seconds\n",
      "You've pulled comments from 131 out of 168 thread(s) and it's taken 568.0 seconds\n",
      "You've pulled comments from 141 out of 168 thread(s) and it's taken 581.0 seconds\n",
      "You've pulled comments from 151 out of 168 thread(s) and it's taken 590.0 seconds\n",
      "You've pulled comments from 161 out of 168 thread(s) and it's taken 623.0 seconds\n"
     ]
    }
   ],
   "source": [
    "## chunk3\n",
    "comment_text = []\n",
    "comment_id = []\n",
    "comment_score = []\n",
    "author_flair = []\n",
    "gilded = []\n",
    "top_comment = []\n",
    "\n",
    "min_id = 337\n",
    "max_id = 505\n",
    "\n",
    "id_list = post_id[min_id:max_id]\n",
    "\n",
    "now = time.mktime(datetime.datetime.now().timetuple())\n",
    "\n",
    "for i in range(len(id_list)):\n",
    "    ids = i+min_id\n",
    "    submission = reddit.submission(id=id_list[ids])\n",
    "    submission.comments.replace_more(limit=None)\n",
    "    \n",
    "    for comment in submission.comments.list():\n",
    "        comment_text.append(comment.body)\n",
    "        comment_id.append(id_list[ids])\n",
    "        comment_score.append(comment.score)\n",
    "        author_flair.append(comment.author_flair_text)\n",
    "        gilded.append(comment.gilded)\n",
    "        top_comment.append(comment.is_root)\n",
    "        \n",
    "    if i % 10 == 0:\n",
    "        print('You\\'ve pulled comments from',i+1,'out of',(max_id-min_id),'thread(s) and it\\'s taken',(time.mktime(datetime.datetime.now().timetuple()) - now),'seconds')"
   ]
  },
  {
   "cell_type": "code",
   "execution_count": 142,
   "metadata": {},
   "outputs": [],
   "source": [
    "# dfcom3_4 = pd.DataFrame(list(zip(comment_id, comment_text, comment_score, author_flair, gilded, top_comment)),\n",
    "#                        columns= ['post_id', 'comment_text', 'comment_score', 'flair_text', 'gilded', 'top_comment'])\n",
    "\n",
    "# dfcom3_4.to_csv('./dfcom3_4.csv', index=False)"
   ]
  },
  {
   "cell_type": "code",
   "execution_count": 133,
   "metadata": {
    "scrolled": false
   },
   "outputs": [],
   "source": [
    "id_list = post_id[168:337]\n",
    "\n",
    "for ids in id_list:\n",
    "    submission = reddit.submission(id=ids)\n",
    "    submission.comments.replace_more(limit=None)\n",
    "    \n",
    "    for comment in submission.comments.list():\n",
    "        comment_text.append(comment.body)\n",
    "        comment_id.append(ids)\n",
    "        comment_score.append(comment.score)\n",
    "        author_flair.append(comment.author_flair_text)\n",
    "        gilded.append(comment.gilded)\n",
    "        top_comment.append(comment.is_root)\n",
    "    \n",
    "    if ids%10:\n",
    "        print('You\\'ve pulled through id#',ids)"
   ]
  },
  {
   "cell_type": "code",
   "execution_count": 113,
   "metadata": {},
   "outputs": [
    {
     "data": {
      "text/html": [
       "<div>\n",
       "<style scoped>\n",
       "    .dataframe tbody tr th:only-of-type {\n",
       "        vertical-align: middle;\n",
       "    }\n",
       "\n",
       "    .dataframe tbody tr th {\n",
       "        vertical-align: top;\n",
       "    }\n",
       "\n",
       "    .dataframe thead th {\n",
       "        text-align: right;\n",
       "    }\n",
       "</style>\n",
       "<table border=\"1\" class=\"dataframe\">\n",
       "  <thead>\n",
       "    <tr style=\"text-align: right;\">\n",
       "      <th></th>\n",
       "      <th>post_id</th>\n",
       "      <th>comment_text</th>\n",
       "      <th>comment_score</th>\n",
       "      <th>flair_text</th>\n",
       "      <th>gilded</th>\n",
       "      <th>top_comment</th>\n",
       "    </tr>\n",
       "  </thead>\n",
       "  <tbody>\n",
       "  </tbody>\n",
       "</table>\n",
       "</div>"
      ],
      "text/plain": [
       "Empty DataFrame\n",
       "Columns: [post_id, comment_text, comment_score, flair_text, gilded, top_comment]\n",
       "Index: []"
      ]
     },
     "execution_count": 113,
     "metadata": {},
     "output_type": "execute_result"
    }
   ],
   "source": [
    "dfcom4_1[~dfcom3_4['post_id'].str.contains('8')]"
   ]
  },
  {
   "cell_type": "markdown",
   "metadata": {},
   "source": [
    "#### Chunk #4: posts 4/4"
   ]
  },
  {
   "cell_type": "code",
   "execution_count": 163,
   "metadata": {},
   "outputs": [
    {
     "name": "stdout",
     "output_type": "stream",
     "text": [
      "You've pulled comments from 1 out of 57 thread(s) and it's been 1.0 seconds\n",
      "You've pulled comments from 11 out of 57 thread(s) and it's been 27.0 seconds\n",
      "You've pulled comments from 21 out of 57 thread(s) and it's been 36.0 seconds\n",
      "You've pulled comments from 31 out of 57 thread(s) and it's been 46.0 seconds\n",
      "You've pulled comments from 41 out of 57 thread(s) and it's been 63.0 seconds\n",
      "You've pulled comments from 51 out of 57 thread(s) and it's been 73.0 seconds\n"
     ]
    }
   ],
   "source": [
    "## chunk4.1\n",
    "\n",
    "comment_text = []\n",
    "comment_id = []\n",
    "comment_score = []\n",
    "author_flair = []\n",
    "gilded = []\n",
    "top_comment = []\n",
    "\n",
    "\n",
    "min_id = 505\n",
    "max_id = 562\n",
    "\n",
    "id_list = post_id[min_id:max_id]\n",
    "\n",
    "now = time.mktime(datetime.datetime.now().timetuple())\n",
    "\n",
    "for i in range(len(id_list)):\n",
    "    ids = i+min_id\n",
    "    submission = reddit.submission(id=id_list[ids])\n",
    "    submission.comments.replace_more(limit=None)\n",
    "    \n",
    "    for comment in submission.comments.list():\n",
    "        comment_text.append(comment.body)\n",
    "        comment_id.append(id_list[ids])\n",
    "        comment_score.append(comment.score)\n",
    "        author_flair.append(comment.author_flair_text)\n",
    "        gilded.append(comment.gilded)\n",
    "        top_comment.append(comment.is_root)\n",
    "        \n",
    "    if i % 10 == 0:\n",
    "        print('You\\'ve pulled comments from',i+1,'out of',(max_id-min_id),'thread(s) and it\\'s been',(time.mktime(datetime.datetime.now().timetuple()) - now),'seconds')"
   ]
  },
  {
   "cell_type": "code",
   "execution_count": 164,
   "metadata": {},
   "outputs": [],
   "source": [
    "dfcom4_1 = pd.DataFrame(list(zip(comment_id, comment_text, comment_score, author_flair, gilded, top_comment)),\n",
    "                       columns= ['post_id', 'comment_text', 'comment_score', 'flair_text', 'gilded', 'top_comment'])\n",
    "\n",
    "dfcom4_1.to_csv('./dfcom4_1.csv', index=False)"
   ]
  },
  {
   "cell_type": "code",
   "execution_count": 151,
   "metadata": {
    "scrolled": false
   },
   "outputs": [
    {
     "data": {
      "text/plain": [
       "560    8mmx5h\n",
       "561    8mwv17\n",
       "562    8n3c83\n",
       "563    8mlo7f\n",
       "564    8mqq1z\n",
       "565    8mu55c\n",
       "566    8mq4iy\n",
       "567    8mtrzc\n",
       "568    8mzlbo\n",
       "569    8mlwk6\n",
       "Name: post_id, dtype: object"
      ]
     },
     "execution_count": 151,
     "metadata": {},
     "output_type": "execute_result"
    }
   ],
   "source": [
    "post_id[560:570]"
   ]
  },
  {
   "cell_type": "code",
   "execution_count": 156,
   "metadata": {
    "scrolled": true
   },
   "outputs": [
    {
     "data": {
      "text/plain": [
       "429"
      ]
     },
     "execution_count": 156,
     "metadata": {},
     "output_type": "execute_result"
    }
   ],
   "source": [
    "url = 'https://www.reddit.com/8n3c83/.json'\n",
    "res = requests.get(url)\n",
    "\n",
    "# soup = BeautifulSoup(res.content, 'lxml')\n",
    "res.status_code"
   ]
  },
  {
   "cell_type": "code",
   "execution_count": 161,
   "metadata": {},
   "outputs": [
    {
     "data": {
      "text/plain": [
       "563"
      ]
     },
     "execution_count": 161,
     "metadata": {},
     "output_type": "execute_result"
    }
   ],
   "source": [
    "505 + len(set(comment_id))"
   ]
  },
  {
   "cell_type": "code",
   "execution_count": 173,
   "metadata": {},
   "outputs": [
    {
     "data": {
      "text/plain": [
       "'8mlo7f'"
      ]
     },
     "execution_count": 173,
     "metadata": {},
     "output_type": "execute_result"
    }
   ],
   "source": [
    "post_id[563]"
   ]
  },
  {
   "cell_type": "code",
   "execution_count": 171,
   "metadata": {},
   "outputs": [
    {
     "name": "stdout",
     "output_type": "stream",
     "text": [
      "You've pulled comments from 1 out of 109 thread(s) and it's been 1.0 seconds\n",
      "You've pulled comments from 11 out of 109 thread(s) and it's been 17.0 seconds\n",
      "You've pulled comments from 21 out of 109 thread(s) and it's been 29.0 seconds\n",
      "You've pulled comments from 31 out of 109 thread(s) and it's been 43.0 seconds\n",
      "You've pulled comments from 41 out of 109 thread(s) and it's been 58.0 seconds\n",
      "You've pulled comments from 51 out of 109 thread(s) and it's been 71.0 seconds\n",
      "You've pulled comments from 61 out of 109 thread(s) and it's been 84.0 seconds\n",
      "You've pulled comments from 71 out of 109 thread(s) and it's been 96.0 seconds\n",
      "You've pulled comments from 81 out of 109 thread(s) and it's been 108.0 seconds\n",
      "You've pulled comments from 91 out of 109 thread(s) and it's been 122.0 seconds\n",
      "You've pulled comments from 101 out of 109 thread(s) and it's been 131.0 seconds\n"
     ]
    }
   ],
   "source": [
    "## chunk4.2\n",
    "min_id = 564\n",
    "max_id = len(post_id)-1\n",
    "\n",
    "id_list = post_id[min_id:max_id]\n",
    "\n",
    "now = time.mktime(datetime.datetime.now().timetuple())\n",
    "\n",
    "for i in range(len(id_list)):\n",
    "    ids = i+min_id\n",
    "    submission = reddit.submission(id=id_list[ids])\n",
    "    submission.comments.replace_more(limit=None)\n",
    "    \n",
    "    for comment in submission.comments.list():\n",
    "        comment_text.append(comment.body)\n",
    "        comment_id.append(id_list[ids])\n",
    "        comment_score.append(comment.score)\n",
    "        author_flair.append(comment.author_flair_text)\n",
    "        gilded.append(comment.gilded)\n",
    "        top_comment.append(comment.is_root)\n",
    "        \n",
    "    if i % 10 == 0:\n",
    "        print('You\\'ve pulled comments from',i+1,'out of',(max_id-min_id),'thread(s) and it\\'s been',(time.mktime(datetime.datetime.now().timetuple()) - now),'seconds')"
   ]
  },
  {
   "cell_type": "code",
   "execution_count": 174,
   "metadata": {},
   "outputs": [],
   "source": [
    "dfcom4_2 = pd.DataFrame(list(zip(comment_id, comment_text, comment_score, author_flair, gilded, top_comment)),\n",
    "                       columns= ['post_id', 'comment_text', 'comment_score', 'flair_text', 'gilded', 'top_comment'])\n",
    "\n",
    "dfcom4_2.to_csv('./dfcom4_2.csv', index=False)"
   ]
  },
  {
   "cell_type": "code",
   "execution_count": 179,
   "metadata": {},
   "outputs": [
    {
     "data": {
      "text/plain": [
       "508"
      ]
     },
     "execution_count": 179,
     "metadata": {},
     "output_type": "execute_result"
    }
   ],
   "source": [
    "len(post_id) - dfcom4_2.post_id.nunique()"
   ]
  },
  {
   "cell_type": "code",
   "execution_count": 180,
   "metadata": {},
   "outputs": [],
   "source": [
    "comment_text = []\n",
    "comment_id = []\n",
    "comment_score = []\n",
    "author_flair = []\n",
    "gilded = []\n",
    "top_comment = []\n",
    "\n",
    "submission = reddit.submission(id=post_id[563])\n",
    "submission.comments.replace_more(limit=None)\n",
    "    \n",
    "for comment in submission.comments.list():\n",
    "    comment_text.append(comment.body)\n",
    "    comment_id.append(id_list[ids])\n",
    "    comment_score.append(comment.score)\n",
    "    author_flair.append(comment.author_flair_text)\n",
    "    gilded.append(comment.gilded)\n",
    "    top_comment.append(comment.is_root)"
   ]
  },
  {
   "cell_type": "code",
   "execution_count": 183,
   "metadata": {},
   "outputs": [],
   "source": [
    "dfcom4_3 = pd.DataFrame(list(zip(comment_id, comment_text, comment_score, author_flair, gilded, top_comment)),\n",
    "                       columns= ['post_id', 'comment_text', 'comment_score', 'flair_text', 'gilded', 'top_comment'])\n",
    "\n",
    "dfcom4_3.to_csv('./dfcom4_3.csv', index=False)"
   ]
  },
  {
   "cell_type": "markdown",
   "metadata": {},
   "source": [
    "** MEGA-CONCATENATE INTO ONE DF, DROP DUPLICATE ROWS FROM CHUNK 3 ERROR**"
   ]
  },
  {
   "cell_type": "markdown",
   "metadata": {},
   "source": [
    "dfcom_14 + dfcom_24 + FIX dfcom_34 + dfcom_4_2+dfcom_4_3"
   ]
  },
  {
   "cell_type": "code",
   "execution_count": 219,
   "metadata": {},
   "outputs": [],
   "source": [
    "dfcom3_4_fixed = dfcom3_4.loc[max(dfcom2_4.index)+1:]"
   ]
  },
  {
   "cell_type": "code",
   "execution_count": null,
   "metadata": {},
   "outputs": [],
   "source": [
    "## drop screwed up rows from chunk 1"
   ]
  },
  {
   "cell_type": "code",
   "execution_count": 222,
   "metadata": {},
   "outputs": [
    {
     "data": {
      "text/plain": [
       "167"
      ]
     },
     "execution_count": 222,
     "metadata": {},
     "output_type": "execute_result"
    }
   ],
   "source": [
    "dfcom4_2.post_id.nunique()+dfcom4_3.post_id.nunique()"
   ]
  },
  {
   "cell_type": "code",
   "execution_count": 228,
   "metadata": {},
   "outputs": [],
   "source": [
    "comments_full = pd.concat([dfcom1_4, dfcom2_4, dfcom3_4_fixed, dfcom4_2])"
   ]
  },
  {
   "cell_type": "code",
   "execution_count": 229,
   "metadata": {},
   "outputs": [],
   "source": [
    "comments_full.to_csv('./comments_full.csv', index=False)"
   ]
  },
  {
   "cell_type": "code",
   "execution_count": 370,
   "metadata": {},
   "outputs": [],
   "source": [
    "comms_clean = comms_clean.reset_index(drop=True)"
   ]
  },
  {
   "cell_type": "markdown",
   "metadata": {},
   "source": [
    "#### Saving to csv"
   ]
  },
  {
   "cell_type": "code",
   "execution_count": 127,
   "metadata": {},
   "outputs": [
    {
     "data": {
      "text/plain": [
       "Series([], Name: post_id, dtype: object)"
      ]
     },
     "execution_count": 127,
     "metadata": {},
     "output_type": "execute_result"
    }
   ],
   "source": [
    "# len(id)"
   ]
  },
  {
   "cell_type": "code",
   "execution_count": 365,
   "metadata": {},
   "outputs": [],
   "source": [
    "# all_comments = pd.DataFrame(list(zip(comment_id, comment_text, score, author_flair, gilded, top_comment)), \n",
    "#                             columns=['comment_id', 'comment_text', 'score', 'author_flair', 'gilded', 'top_comment'])\n",
    "\n",
    "# all_comments.to_csv('./rnba_comments_top1000.csv', index=False)"
   ]
  },
  {
   "cell_type": "code",
   "execution_count": 366,
   "metadata": {},
   "outputs": [],
   "source": [
    "# all_comments.head()"
   ]
  },
  {
   "cell_type": "code",
   "execution_count": 367,
   "metadata": {},
   "outputs": [],
   "source": [
    "# all_comments['clean_comment'] = all_comments['comment_text'].map(comments_clean)"
   ]
  },
  {
   "cell_type": "code",
   "execution_count": 368,
   "metadata": {},
   "outputs": [],
   "source": [
    "# len(comments)"
   ]
  },
  {
   "cell_type": "code",
   "execution_count": 369,
   "metadata": {
    "scrolled": true
   },
   "outputs": [],
   "source": [
    "# comments_full.head()"
   ]
  },
  {
   "cell_type": "markdown",
   "metadata": {},
   "source": [
    "** Next steps**\n",
    "\n",
    "- general cleaning\n",
    "- clean flair\n",
    "- cast `top_comment` as int\n",
    "- clean out deleted comments\n",
    "- then ... MODELING!"
   ]
  },
  {
   "cell_type": "code",
   "execution_count": 3,
   "metadata": {},
   "outputs": [
    {
     "name": "stderr",
     "output_type": "stream",
     "text": [
      "C:\\Users\\james\\Anaconda3\\envs\\dsi\\lib\\site-packages\\IPython\\core\\interactiveshell.py:2785: DtypeWarning: Columns (2,4,5) have mixed types. Specify dtype option on import or set low_memory=False.\n",
      "  interactivity=interactivity, compiler=compiler, result=result)\n"
     ]
    },
    {
     "data": {
      "text/html": [
       "<div>\n",
       "<style scoped>\n",
       "    .dataframe tbody tr th:only-of-type {\n",
       "        vertical-align: middle;\n",
       "    }\n",
       "\n",
       "    .dataframe tbody tr th {\n",
       "        vertical-align: top;\n",
       "    }\n",
       "\n",
       "    .dataframe thead th {\n",
       "        text-align: right;\n",
       "    }\n",
       "</style>\n",
       "<table border=\"1\" class=\"dataframe\">\n",
       "  <thead>\n",
       "    <tr style=\"text-align: right;\">\n",
       "      <th></th>\n",
       "      <th>post_id</th>\n",
       "      <th>comment_text</th>\n",
       "      <th>comment_score</th>\n",
       "      <th>flair_text</th>\n",
       "      <th>gilded</th>\n",
       "      <th>top_comment</th>\n",
       "    </tr>\n",
       "  </thead>\n",
       "  <tbody>\n",
       "    <tr>\n",
       "      <th>0</th>\n",
       "      <td>8mzbgk</td>\n",
       "      <td>Serena Williams did voice work in avatar the l...</td>\n",
       "      <td>31</td>\n",
       "      <td>[GSW] Kevin Durant</td>\n",
       "      <td>0</td>\n",
       "      <td>True</td>\n",
       "    </tr>\n",
       "    <tr>\n",
       "      <th>1</th>\n",
       "      <td>8mzbgk</td>\n",
       "      <td>r/nba on suicide watch</td>\n",
       "      <td>33</td>\n",
       "      <td>Spurs</td>\n",
       "      <td>0</td>\n",
       "      <td>True</td>\n",
       "    </tr>\n",
       "    <tr>\n",
       "      <th>2</th>\n",
       "      <td>8mzbgk</td>\n",
       "      <td>Told my wife this and might as well tell r/nba...</td>\n",
       "      <td>18</td>\n",
       "      <td>Cavaliers</td>\n",
       "      <td>0</td>\n",
       "      <td>True</td>\n",
       "    </tr>\n",
       "    <tr>\n",
       "      <th>3</th>\n",
       "      <td>8mzbgk</td>\n",
       "      <td>is everyone okay? everyone get some good sleep...</td>\n",
       "      <td>32</td>\n",
       "      <td>Mavericks</td>\n",
       "      <td>0</td>\n",
       "      <td>True</td>\n",
       "    </tr>\n",
       "    <tr>\n",
       "      <th>4</th>\n",
       "      <td>8mzbgk</td>\n",
       "      <td>banh mi is the shit</td>\n",
       "      <td>14</td>\n",
       "      <td>[MIL] Sterling Brown</td>\n",
       "      <td>0</td>\n",
       "      <td>True</td>\n",
       "    </tr>\n",
       "  </tbody>\n",
       "</table>\n",
       "</div>"
      ],
      "text/plain": [
       "  post_id                                       comment_text comment_score  \\\n",
       "0  8mzbgk  Serena Williams did voice work in avatar the l...            31   \n",
       "1  8mzbgk                             r/nba on suicide watch            33   \n",
       "2  8mzbgk  Told my wife this and might as well tell r/nba...            18   \n",
       "3  8mzbgk  is everyone okay? everyone get some good sleep...            32   \n",
       "4  8mzbgk                                banh mi is the shit            14   \n",
       "\n",
       "             flair_text gilded top_comment  \n",
       "0    [GSW] Kevin Durant      0        True  \n",
       "1                 Spurs      0        True  \n",
       "2             Cavaliers      0        True  \n",
       "3             Mavericks      0        True  \n",
       "4  [MIL] Sterling Brown      0        True  "
      ]
     },
     "execution_count": 3,
     "metadata": {},
     "output_type": "execute_result"
    }
   ],
   "source": [
    "comments_full = pd.read_csv('./comments_full.csv')\n",
    "comments_full.head()"
   ]
  },
  {
   "cell_type": "code",
   "execution_count": 4,
   "metadata": {},
   "outputs": [],
   "source": [
    "comms_clean = comments_full.drop(comments_full[~comments_full.post_id.str.contains('8')].index)"
   ]
  },
  {
   "cell_type": "code",
   "execution_count": 8,
   "metadata": {},
   "outputs": [],
   "source": [
    "# comms_clean = comms_clean.reset_index(drop=True)"
   ]
  },
  {
   "cell_type": "code",
   "execution_count": 5,
   "metadata": {},
   "outputs": [
    {
     "data": {
      "text/plain": [
       "post_id              0\n",
       "comment_text         0\n",
       "comment_score        1\n",
       "flair_text       39337\n",
       "gilded               1\n",
       "top_comment          1\n",
       "dtype: int64"
      ]
     },
     "execution_count": 5,
     "metadata": {},
     "output_type": "execute_result"
    }
   ],
   "source": [
    "## check for nulls\n",
    "\n",
    "comms_clean.isnull().sum()"
   ]
  },
  {
   "cell_type": "code",
   "execution_count": 6,
   "metadata": {},
   "outputs": [],
   "source": [
    "comms_clean = comms_clean.drop(comms_clean[comms_clean.comment_score.isnull()].index)"
   ]
  },
  {
   "cell_type": "code",
   "execution_count": 7,
   "metadata": {},
   "outputs": [
    {
     "data": {
      "text/plain": [
       "post_id              0\n",
       "comment_text         0\n",
       "comment_score        0\n",
       "flair_text       39336\n",
       "gilded               0\n",
       "top_comment          0\n",
       "dtype: int64"
      ]
     },
     "execution_count": 7,
     "metadata": {},
     "output_type": "execute_result"
    }
   ],
   "source": [
    "comms_clean.isnull().sum()"
   ]
  },
  {
   "cell_type": "code",
   "execution_count": 8,
   "metadata": {},
   "outputs": [],
   "source": [
    "## casting top_comment as int for later model use\n",
    "comms_clean.top_comment = comms_clean.top_comment.astype(int)"
   ]
  },
  {
   "cell_type": "code",
   "execution_count": 15,
   "metadata": {},
   "outputs": [
    {
     "data": {
      "text/html": [
       "<div>\n",
       "<style scoped>\n",
       "    .dataframe tbody tr th:only-of-type {\n",
       "        vertical-align: middle;\n",
       "    }\n",
       "\n",
       "    .dataframe tbody tr th {\n",
       "        vertical-align: top;\n",
       "    }\n",
       "\n",
       "    .dataframe thead th {\n",
       "        text-align: right;\n",
       "    }\n",
       "</style>\n",
       "<table border=\"1\" class=\"dataframe\">\n",
       "  <thead>\n",
       "    <tr style=\"text-align: right;\">\n",
       "      <th></th>\n",
       "      <th>post_id</th>\n",
       "      <th>comment_text</th>\n",
       "      <th>comment_score</th>\n",
       "      <th>flair_text</th>\n",
       "      <th>gilded</th>\n",
       "      <th>top_comment</th>\n",
       "    </tr>\n",
       "  </thead>\n",
       "  <tbody>\n",
       "    <tr>\n",
       "      <th>0</th>\n",
       "      <td>8mzbgk</td>\n",
       "      <td>Serena Williams did voice work in avatar the l...</td>\n",
       "      <td>31</td>\n",
       "      <td>[GSW] Kevin Durant</td>\n",
       "      <td>0</td>\n",
       "      <td>1</td>\n",
       "    </tr>\n",
       "    <tr>\n",
       "      <th>1</th>\n",
       "      <td>8mzbgk</td>\n",
       "      <td>r/nba on suicide watch</td>\n",
       "      <td>33</td>\n",
       "      <td>Spurs</td>\n",
       "      <td>0</td>\n",
       "      <td>1</td>\n",
       "    </tr>\n",
       "    <tr>\n",
       "      <th>2</th>\n",
       "      <td>8mzbgk</td>\n",
       "      <td>Told my wife this and might as well tell r/nba...</td>\n",
       "      <td>18</td>\n",
       "      <td>Cavaliers</td>\n",
       "      <td>0</td>\n",
       "      <td>1</td>\n",
       "    </tr>\n",
       "    <tr>\n",
       "      <th>3</th>\n",
       "      <td>8mzbgk</td>\n",
       "      <td>is everyone okay? everyone get some good sleep...</td>\n",
       "      <td>32</td>\n",
       "      <td>Mavericks</td>\n",
       "      <td>0</td>\n",
       "      <td>1</td>\n",
       "    </tr>\n",
       "    <tr>\n",
       "      <th>4</th>\n",
       "      <td>8mzbgk</td>\n",
       "      <td>banh mi is the shit</td>\n",
       "      <td>14</td>\n",
       "      <td>[MIL] Sterling Brown</td>\n",
       "      <td>0</td>\n",
       "      <td>1</td>\n",
       "    </tr>\n",
       "  </tbody>\n",
       "</table>\n",
       "</div>"
      ],
      "text/plain": [
       "  post_id                                       comment_text comment_score  \\\n",
       "0  8mzbgk  Serena Williams did voice work in avatar the l...            31   \n",
       "1  8mzbgk                             r/nba on suicide watch            33   \n",
       "2  8mzbgk  Told my wife this and might as well tell r/nba...            18   \n",
       "3  8mzbgk  is everyone okay? everyone get some good sleep...            32   \n",
       "4  8mzbgk                                banh mi is the shit            14   \n",
       "\n",
       "             flair_text gilded  top_comment  \n",
       "0    [GSW] Kevin Durant      0            1  \n",
       "1                 Spurs      0            1  \n",
       "2             Cavaliers      0            1  \n",
       "3             Mavericks      0            1  \n",
       "4  [MIL] Sterling Brown      0            1  "
      ]
     },
     "execution_count": 15,
     "metadata": {},
     "output_type": "execute_result"
    }
   ],
   "source": [
    "comms_clean.head()"
   ]
  },
  {
   "cell_type": "code",
   "execution_count": 9,
   "metadata": {},
   "outputs": [],
   "source": [
    "mask = comms_clean[comms_clean['comment_text'] == '[deleted]']\n",
    "\n",
    "comms_clean = comms_clean.drop(mask.index)"
   ]
  },
  {
   "cell_type": "markdown",
   "metadata": {},
   "source": [
    "Alright, time to clean some flair!! Let's first fill the nulls with 'no_flair' to categorize, b/c we're gonna make dummies"
   ]
  },
  {
   "cell_type": "code",
   "execution_count": 10,
   "metadata": {},
   "outputs": [],
   "source": [
    "comms_clean.flair_text = comms_clean.flair_text.fillna('no_flair')"
   ]
  },
  {
   "cell_type": "code",
   "execution_count": 11,
   "metadata": {},
   "outputs": [
    {
     "data": {
      "text/plain": [
       "post_id          0\n",
       "comment_text     0\n",
       "comment_score    0\n",
       "flair_text       0\n",
       "gilded           0\n",
       "top_comment      0\n",
       "dtype: int64"
      ]
     },
     "execution_count": 11,
     "metadata": {},
     "output_type": "execute_result"
    }
   ],
   "source": [
    "comms_clean.isnull().sum()"
   ]
  },
  {
   "cell_type": "markdown",
   "metadata": {},
   "source": [
    "Great, now we can go to work. We know that there are two types of flairs: \n",
    "- ones with player names that start with 3 letter team, e.g. [NYK] Patrick Ewing\n",
    "- ones that are just team, e.g. Lakers"
   ]
  },
  {
   "cell_type": "code",
   "execution_count": 21,
   "metadata": {},
   "outputs": [
    {
     "name": "stdout",
     "output_type": "stream",
     "text": [
      "['[GSW] Kevin Durant' '[MIL] Sterling Brown' '[LAL] Kobe Bryant' ...\n",
      " '[DAL] Dan Dickau' '[HOU] Ryan Anderson' '[BKN] Drazen Petrovic']\n",
      "1014\n"
     ]
    }
   ],
   "source": [
    "#type 1\n",
    "print(comms_clean[comms_clean.flair_text.str.contains('\\[')]['flair_text'].unique())\n",
    "print(comms_clean[comms_clean.flair_text.str.contains('\\[')]['flair_text'].nunique())"
   ]
  },
  {
   "cell_type": "code",
   "execution_count": 12,
   "metadata": {},
   "outputs": [
    {
     "data": {
      "text/plain": [
       "0     GSW\n",
       "4     MIL\n",
       "13    LAL\n",
       "15    LAL\n",
       "16    OKC\n",
       "Name: flair_text, dtype: object"
      ]
     },
     "execution_count": 12,
     "metadata": {},
     "output_type": "execute_result"
    }
   ],
   "source": [
    "#type 1\n",
    "## okay - this seemed to work. let's figure out how to map it with the appropriate index.\n",
    "short_flair = comms_clean[comms_clean.flair_text.str.contains('\\[')]['flair_text'].map(lambda x: x[1:4])\n",
    "short_flair.head()"
   ]
  },
  {
   "cell_type": "code",
   "execution_count": null,
   "metadata": {},
   "outputs": [],
   "source": []
  },
  {
   "cell_type": "code",
   "execution_count": 13,
   "metadata": {},
   "outputs": [
    {
     "name": "stdout",
     "output_type": "stream",
     "text": [
      "['Spurs' 'Cavaliers' 'Mavericks' 'Pistons' 'Pelicans' 'Celtics' '76ers'\n",
      " 'Nuggets' 'no_flair' 'Warriors Bandwagon' 'Clippers'\n",
      " 'Mavericks Tankwagon' 'Cavaliers Bandwagon' 'Wizards' 'Knicks' 'Hornets'\n",
      " 'Raptors' 'Warriors' 'Knicks Tankwagon' 'Rockets Bandwagon' 'Bulls'\n",
      " 'Lakers' 'Thunder' 'NBA' 'Suns' 'Bulls Tankwagon' 'Rockets'\n",
      " 'Trail Blazers' 'Suns Tankwagon' 'Jazz Bandwagon' 'Jazz' 'Timberwolves'\n",
      " 'West' 'Heat' 'Supersonics' 'Nets Tankwagon' 'Bucks' 'Knicks Tankswagon'\n",
      " 'Grizzlies' 'Pacers' 'Hawks Tankwagon' 'Celtics Bandwagon'\n",
      " '76ers Bandwagon' 'Spurs Bandwagon' 'Nets' 'Hawks' 'San Diego Rockets'\n",
      " 'Lakers Bandwagon' 'Kings Tankwagon' 'Suns Bandwagon'\n",
      " 'Mavericks Bandwagon' 'Bullets' 'Magic' 'Canada' 'East'\n",
      " 'Charlotte Hornets' 'Kings' 'Grizzlies Tankwagon' 'Thunder Bandwagon'\n",
      " 'Pacers Bandwagon' 'Raptors Bandwagon' 'Bleacher Report'\n",
      " 'New Jersey Nets' 'Vancouver Grizzlies' 'Trust The Process'\n",
      " 'Sixers Bandwagon' 'Magic Tankwagon' 'Timberwolves Bandwagon'\n",
      " 'Kings Bandwagon' 'Generals' 'Toaster' 'Bucks Bandwagon'\n",
      " 'San Diego Clippers' 'Bulls Bandwagon' '23' 'Mavs' 'Hornets Bandwagon'\n",
      " 'KnickerBockers' 'Minneapolis Lakers' 'Pelicans Bandwagon' 'USA'\n",
      " 'Philippines' 'Heat Bandwagon' 'Braves' 'Nets Bandwagon' 'Dirk Nowitzki'\n",
      " 'Huskies' 'Toronto Huskies' '24' 'New Zealand' 'Clippers Bandwagon'\n",
      " 'Charlotte Bobcats' 'Bobcats' 'Lithuania' 'Knicks Bandwagon'\n",
      " 'Wolves Bandwagon' 'Australia' 'OKC Hornets' 'Hakeem Olajuwon' 'Finland'\n",
      " '59' 'Magic Johnson' 'France' 'Trail Blazers Bandwagon'\n",
      " 'Wizards Bandwagon' 'Kobe Bryant' 'Croatia' 'I own 10 pairs of ZO2s'\n",
      " 'New Orleans Hornets' 'Serbia' 'Brooklyn Nets' 'Jon McGlocklin'\n",
      " 'Jason Kidd' 'Nuggets Bandwagon' 'Allen Iverson' 'Grizzlies Bandwagon'\n",
      " 'Braxton Smith']\n",
      "\n",
      "117\n"
     ]
    }
   ],
   "source": [
    "long_flair = comms_clean[~comms_clean.flair_text.str.contains('\\[')]\n",
    "print(long_flair['flair_text'].unique())\n",
    "print()\n",
    "print(long_flair['flair_text'].nunique())"
   ]
  },
  {
   "cell_type": "code",
   "execution_count": 14,
   "metadata": {},
   "outputs": [
    {
     "data": {
      "text/plain": [
       "'wolves'"
      ]
     },
     "execution_count": 14,
     "metadata": {},
     "output_type": "execute_result"
    }
   ],
   "source": [
    "word = 'Wolves Bandwagon'\n",
    "re.match('^\\w+', word).group(0).lower()"
   ]
  },
  {
   "cell_type": "code",
   "execution_count": 15,
   "metadata": {},
   "outputs": [
    {
     "data": {
      "text/plain": [
       "['Wolves']"
      ]
     },
     "execution_count": 15,
     "metadata": {},
     "output_type": "execute_result"
    }
   ],
   "source": [
    "re.findall('^\\w+', word)"
   ]
  },
  {
   "cell_type": "code",
   "execution_count": 16,
   "metadata": {
    "scrolled": true
   },
   "outputs": [
    {
     "data": {
      "text/plain": [
       "array(['spurs', 'cavaliers', 'mavericks', 'pistons', 'pelicans',\n",
       "       'celtics', '76ers', 'nuggets', 'no_flair', 'warriors', 'clippers',\n",
       "       'wizards', 'knicks', 'hornets', 'raptors', 'rockets', 'bulls',\n",
       "       'lakers', 'thunder', 'nba', 'suns', 'trail', 'jazz',\n",
       "       'timberwolves', 'west', 'heat', 'supersonics', 'nets', 'bucks',\n",
       "       'grizzlies', 'pacers', 'hawks', 'san', 'kings', 'bullets', 'magic',\n",
       "       'canada', 'east', 'charlotte', 'bleacher', 'new', 'vancouver',\n",
       "       'trust', 'sixers', 'generals', 'toaster', '23', 'mavs',\n",
       "       'knickerbockers', 'minneapolis', 'usa', 'philippines', 'braves',\n",
       "       'dirk', 'huskies', 'toronto', '24', 'bobcats', 'lithuania',\n",
       "       'wolves', 'australia', 'okc', 'hakeem', 'finland', '59', 'france',\n",
       "       'kobe', 'croatia', 'i', 'serbia', 'brooklyn', 'jon', 'jason',\n",
       "       'allen', 'braxton'], dtype=object)"
      ]
     },
     "execution_count": 16,
     "metadata": {},
     "output_type": "execute_result"
    }
   ],
   "source": [
    "long_flair['flair_text'].map(lambda x: re.findall('^\\w+', x)[0].lower()).unique()"
   ]
  },
  {
   "cell_type": "code",
   "execution_count": 17,
   "metadata": {},
   "outputs": [],
   "source": [
    "full_names = [\"Celtics\",\n",
    "\"Nets\",\n",
    "\"Knicks\",\n",
    "\"76ers\",\n",
    "\"Raptors\",\n",
    "\"Bulls\",\n",
    "\"Cavaliers\",\n",
    "\"Pistons\",\n",
    "\"Pacers\",\n",
    "\"Bucks\",\n",
    "\"Hawks\",\n",
    "\"Hornets\",\n",
    "\"Heat\",\n",
    "\"Magic\",\n",
    "\"Wizards\",\n",
    "\"Nuggets\",\n",
    " \"Timberwolves\",\n",
    "\"Thunder\",\n",
    "\"Blazers\",\n",
    "\"Jazz\",\n",
    "\"Warriors\",\n",
    "\"Clippers\",\n",
    "\"Lakers\",\n",
    "\"Suns\",\n",
    "\"Kings\",\n",
    "\"Mavericks\",\n",
    "\"Rockets\",\n",
    "\"Grizzlies\",\n",
    "\"Pelicans\",\n",
    "\"Spurs\"]"
   ]
  },
  {
   "cell_type": "code",
   "execution_count": 18,
   "metadata": {},
   "outputs": [],
   "source": [
    "full_names = [team.lower() for team in full_names]"
   ]
  },
  {
   "cell_type": "code",
   "execution_count": 19,
   "metadata": {},
   "outputs": [],
   "source": [
    "short_teams = [\"BOS\",\n",
    "\"BKN\",\n",
    "\"NYK\",\n",
    "\"PHI\",\n",
    "\"TOR\",\n",
    "\"CHI\",\n",
    "\"CLE\",\n",
    "\"DET\",\n",
    "\"IND\",\n",
    "\"MIL\",\n",
    "\"ATL\",\n",
    "\"CHA\",\n",
    "\"MIA\",\n",
    "\"ORL\",\n",
    "\"WAS\",\n",
    "\"DEN\",\n",
    "\"MIN\",\n",
    "\"OKC\",\n",
    "\"POR\",\n",
    "\"UTA\",\n",
    "\"GSW\",\n",
    "\"LAC\",\n",
    "\"LAL\",\n",
    "\"PHO\",\n",
    "\"SAC\",\n",
    "\"DAL\",\n",
    "\"HOU\",\n",
    "\"MEM\",\n",
    "\"NOP\",\n",
    "\"SAS\"]"
   ]
  },
  {
   "cell_type": "code",
   "execution_count": 20,
   "metadata": {},
   "outputs": [],
   "source": [
    "nba_dict = dict(zip(full_names, short_teams))"
   ]
  },
  {
   "cell_type": "code",
   "execution_count": 21,
   "metadata": {},
   "outputs": [
    {
     "data": {
      "text/plain": [
       "{'celtics': 'BOS',\n",
       " 'nets': 'BKN',\n",
       " 'knicks': 'NYK',\n",
       " '76ers': 'PHI',\n",
       " 'raptors': 'TOR',\n",
       " 'bulls': 'CHI',\n",
       " 'cavaliers': 'CLE',\n",
       " 'pistons': 'DET',\n",
       " 'pacers': 'IND',\n",
       " 'bucks': 'MIL',\n",
       " 'hawks': 'ATL',\n",
       " 'hornets': 'CHA',\n",
       " 'heat': 'MIA',\n",
       " 'magic': 'ORL',\n",
       " 'wizards': 'WAS',\n",
       " 'nuggets': 'DEN',\n",
       " 'timberwolves': 'MIN',\n",
       " 'thunder': 'OKC',\n",
       " 'blazers': 'POR',\n",
       " 'jazz': 'UTA',\n",
       " 'warriors': 'GSW',\n",
       " 'clippers': 'LAC',\n",
       " 'lakers': 'LAL',\n",
       " 'suns': 'PHO',\n",
       " 'kings': 'SAC',\n",
       " 'mavericks': 'DAL',\n",
       " 'rockets': 'HOU',\n",
       " 'grizzlies': 'MEM',\n",
       " 'pelicans': 'NOP',\n",
       " 'spurs': 'SAS'}"
      ]
     },
     "execution_count": 21,
     "metadata": {},
     "output_type": "execute_result"
    }
   ],
   "source": [
    "nba_dict"
   ]
  },
  {
   "cell_type": "code",
   "execution_count": 22,
   "metadata": {
    "scrolled": true
   },
   "outputs": [
    {
     "data": {
      "text/html": [
       "<div>\n",
       "<style scoped>\n",
       "    .dataframe tbody tr th:only-of-type {\n",
       "        vertical-align: middle;\n",
       "    }\n",
       "\n",
       "    .dataframe tbody tr th {\n",
       "        vertical-align: top;\n",
       "    }\n",
       "\n",
       "    .dataframe thead th {\n",
       "        text-align: right;\n",
       "    }\n",
       "</style>\n",
       "<table border=\"1\" class=\"dataframe\">\n",
       "  <thead>\n",
       "    <tr style=\"text-align: right;\">\n",
       "      <th></th>\n",
       "      <th>post_id</th>\n",
       "      <th>comment_text</th>\n",
       "      <th>comment_score</th>\n",
       "      <th>flair_text</th>\n",
       "      <th>gilded</th>\n",
       "      <th>top_comment</th>\n",
       "    </tr>\n",
       "  </thead>\n",
       "  <tbody>\n",
       "    <tr>\n",
       "      <th>0</th>\n",
       "      <td>8mzbgk</td>\n",
       "      <td>Serena Williams did voice work in avatar the l...</td>\n",
       "      <td>31</td>\n",
       "      <td>[GSW] Kevin Durant</td>\n",
       "      <td>0</td>\n",
       "      <td>1</td>\n",
       "    </tr>\n",
       "    <tr>\n",
       "      <th>1</th>\n",
       "      <td>8mzbgk</td>\n",
       "      <td>r/nba on suicide watch</td>\n",
       "      <td>33</td>\n",
       "      <td>Spurs</td>\n",
       "      <td>0</td>\n",
       "      <td>1</td>\n",
       "    </tr>\n",
       "    <tr>\n",
       "      <th>2</th>\n",
       "      <td>8mzbgk</td>\n",
       "      <td>Told my wife this and might as well tell r/nba...</td>\n",
       "      <td>18</td>\n",
       "      <td>Cavaliers</td>\n",
       "      <td>0</td>\n",
       "      <td>1</td>\n",
       "    </tr>\n",
       "    <tr>\n",
       "      <th>3</th>\n",
       "      <td>8mzbgk</td>\n",
       "      <td>is everyone okay? everyone get some good sleep...</td>\n",
       "      <td>32</td>\n",
       "      <td>Mavericks</td>\n",
       "      <td>0</td>\n",
       "      <td>1</td>\n",
       "    </tr>\n",
       "    <tr>\n",
       "      <th>4</th>\n",
       "      <td>8mzbgk</td>\n",
       "      <td>banh mi is the shit</td>\n",
       "      <td>14</td>\n",
       "      <td>[MIL] Sterling Brown</td>\n",
       "      <td>0</td>\n",
       "      <td>1</td>\n",
       "    </tr>\n",
       "  </tbody>\n",
       "</table>\n",
       "</div>"
      ],
      "text/plain": [
       "  post_id                                       comment_text comment_score  \\\n",
       "0  8mzbgk  Serena Williams did voice work in avatar the l...            31   \n",
       "1  8mzbgk                             r/nba on suicide watch            33   \n",
       "2  8mzbgk  Told my wife this and might as well tell r/nba...            18   \n",
       "3  8mzbgk  is everyone okay? everyone get some good sleep...            32   \n",
       "4  8mzbgk                                banh mi is the shit            14   \n",
       "\n",
       "             flair_text gilded  top_comment  \n",
       "0    [GSW] Kevin Durant      0            1  \n",
       "1                 Spurs      0            1  \n",
       "2             Cavaliers      0            1  \n",
       "3             Mavericks      0            1  \n",
       "4  [MIL] Sterling Brown      0            1  "
      ]
     },
     "execution_count": 22,
     "metadata": {},
     "output_type": "execute_result"
    }
   ],
   "source": [
    "comms_clean.head()"
   ]
  },
  {
   "cell_type": "markdown",
   "metadata": {},
   "source": [
    "**Next steps**\n",
    "\n",
    "- create new 'flair_clean1' column\n",
    "- for loop #1: get short-name out of [brackets], clean and lower other flair type\n",
    "- create new 'flair_clean2' column\n",
    "- for loop #2: map with dict"
   ]
  },
  {
   "cell_type": "code",
   "execution_count": 23,
   "metadata": {},
   "outputs": [],
   "source": [
    "comms_clean['flair_clean1'] = ''"
   ]
  },
  {
   "cell_type": "code",
   "execution_count": 24,
   "metadata": {},
   "outputs": [],
   "source": [
    "flair_clean1_list = []\n",
    "for i in comms_clean['flair_text']:\n",
    "    if i.find(']') > 0:\n",
    "        flair_clean1_list.append(i[1:4])\n",
    "    else:\n",
    "        try:\n",
    "            flair_clean1_list.append(re.findall('^\\w+', i)[0].lower())\n",
    "        except:\n",
    "            flair_clean1_list.append('other')"
   ]
  },
  {
   "cell_type": "code",
   "execution_count": 25,
   "metadata": {},
   "outputs": [
    {
     "data": {
      "text/plain": [
       "(145309, 145309)"
      ]
     },
     "execution_count": 25,
     "metadata": {},
     "output_type": "execute_result"
    }
   ],
   "source": [
    "len(flair_clean1_list), len(comms_clean.flair_text)"
   ]
  },
  {
   "cell_type": "code",
   "execution_count": 26,
   "metadata": {},
   "outputs": [],
   "source": [
    "comms_clean['flair_clean1'] = flair_clean1_list"
   ]
  },
  {
   "cell_type": "code",
   "execution_count": 27,
   "metadata": {},
   "outputs": [
    {
     "data": {
      "text/html": [
       "<div>\n",
       "<style scoped>\n",
       "    .dataframe tbody tr th:only-of-type {\n",
       "        vertical-align: middle;\n",
       "    }\n",
       "\n",
       "    .dataframe tbody tr th {\n",
       "        vertical-align: top;\n",
       "    }\n",
       "\n",
       "    .dataframe thead th {\n",
       "        text-align: right;\n",
       "    }\n",
       "</style>\n",
       "<table border=\"1\" class=\"dataframe\">\n",
       "  <thead>\n",
       "    <tr style=\"text-align: right;\">\n",
       "      <th></th>\n",
       "      <th>post_id</th>\n",
       "      <th>comment_text</th>\n",
       "      <th>comment_score</th>\n",
       "      <th>flair_text</th>\n",
       "      <th>gilded</th>\n",
       "      <th>top_comment</th>\n",
       "      <th>flair_clean1</th>\n",
       "    </tr>\n",
       "  </thead>\n",
       "  <tbody>\n",
       "    <tr>\n",
       "      <th>0</th>\n",
       "      <td>8mzbgk</td>\n",
       "      <td>Serena Williams did voice work in avatar the l...</td>\n",
       "      <td>31</td>\n",
       "      <td>[GSW] Kevin Durant</td>\n",
       "      <td>0</td>\n",
       "      <td>1</td>\n",
       "      <td>GSW</td>\n",
       "    </tr>\n",
       "    <tr>\n",
       "      <th>1</th>\n",
       "      <td>8mzbgk</td>\n",
       "      <td>r/nba on suicide watch</td>\n",
       "      <td>33</td>\n",
       "      <td>Spurs</td>\n",
       "      <td>0</td>\n",
       "      <td>1</td>\n",
       "      <td>spurs</td>\n",
       "    </tr>\n",
       "    <tr>\n",
       "      <th>2</th>\n",
       "      <td>8mzbgk</td>\n",
       "      <td>Told my wife this and might as well tell r/nba...</td>\n",
       "      <td>18</td>\n",
       "      <td>Cavaliers</td>\n",
       "      <td>0</td>\n",
       "      <td>1</td>\n",
       "      <td>cavaliers</td>\n",
       "    </tr>\n",
       "    <tr>\n",
       "      <th>3</th>\n",
       "      <td>8mzbgk</td>\n",
       "      <td>is everyone okay? everyone get some good sleep...</td>\n",
       "      <td>32</td>\n",
       "      <td>Mavericks</td>\n",
       "      <td>0</td>\n",
       "      <td>1</td>\n",
       "      <td>mavericks</td>\n",
       "    </tr>\n",
       "    <tr>\n",
       "      <th>4</th>\n",
       "      <td>8mzbgk</td>\n",
       "      <td>banh mi is the shit</td>\n",
       "      <td>14</td>\n",
       "      <td>[MIL] Sterling Brown</td>\n",
       "      <td>0</td>\n",
       "      <td>1</td>\n",
       "      <td>MIL</td>\n",
       "    </tr>\n",
       "  </tbody>\n",
       "</table>\n",
       "</div>"
      ],
      "text/plain": [
       "  post_id                                       comment_text comment_score  \\\n",
       "0  8mzbgk  Serena Williams did voice work in avatar the l...            31   \n",
       "1  8mzbgk                             r/nba on suicide watch            33   \n",
       "2  8mzbgk  Told my wife this and might as well tell r/nba...            18   \n",
       "3  8mzbgk  is everyone okay? everyone get some good sleep...            32   \n",
       "4  8mzbgk                                banh mi is the shit            14   \n",
       "\n",
       "             flair_text gilded  top_comment flair_clean1  \n",
       "0    [GSW] Kevin Durant      0            1          GSW  \n",
       "1                 Spurs      0            1        spurs  \n",
       "2             Cavaliers      0            1    cavaliers  \n",
       "3             Mavericks      0            1    mavericks  \n",
       "4  [MIL] Sterling Brown      0            1          MIL  "
      ]
     },
     "execution_count": 27,
     "metadata": {},
     "output_type": "execute_result"
    }
   ],
   "source": [
    "comms_clean.head()"
   ]
  },
  {
   "cell_type": "code",
   "execution_count": 28,
   "metadata": {},
   "outputs": [],
   "source": [
    "comms_clean['flair_clean2'] = ''"
   ]
  },
  {
   "cell_type": "code",
   "execution_count": 29,
   "metadata": {},
   "outputs": [],
   "source": [
    "flair_clean2_list = []\n",
    "for i in comms_clean['flair_clean1']:\n",
    "    if nba_dict.get(i) is None:\n",
    "        if i == 'no_flair':\n",
    "            flair_clean2_list.append('no_flair')\n",
    "        else:\n",
    "            flair_clean2_list.append('other')\n",
    "    else:\n",
    "        flair_clean2_list.append(nba_dict.get(i))"
   ]
  },
  {
   "cell_type": "code",
   "execution_count": 30,
   "metadata": {},
   "outputs": [],
   "source": [
    "comms_clean['flair_clean2'] = flair_clean2_list"
   ]
  },
  {
   "cell_type": "code",
   "execution_count": 31,
   "metadata": {},
   "outputs": [
    {
     "data": {
      "text/plain": [
       "array(['other', 'SAS', 'CLE', 'DAL', 'DET', 'NOP', 'BOS', 'PHI', 'DEN',\n",
       "       'no_flair', 'GSW', 'LAC', 'WAS', 'NYK', 'CHA', 'TOR', 'HOU', 'CHI',\n",
       "       'LAL', 'OKC', 'PHO', 'UTA', 'MIN', 'MIA', 'BKN', 'MIL', 'MEM',\n",
       "       'IND', 'ATL', 'SAC', 'ORL'], dtype=object)"
      ]
     },
     "execution_count": 31,
     "metadata": {},
     "output_type": "execute_result"
    }
   ],
   "source": [
    "comms_clean.flair_clean2.unique()"
   ]
  },
  {
   "cell_type": "code",
   "execution_count": 32,
   "metadata": {},
   "outputs": [],
   "source": [
    "from plotter import *\n",
    "import plotter"
   ]
  },
  {
   "cell_type": "code",
   "execution_count": 33,
   "metadata": {},
   "outputs": [
    {
     "data": {
      "text/plain": [
       "post_id          object\n",
       "comment_text     object\n",
       "comment_score    object\n",
       "flair_text       object\n",
       "gilded           object\n",
       "top_comment       int32\n",
       "flair_clean1     object\n",
       "flair_clean2     object\n",
       "dtype: object"
      ]
     },
     "execution_count": 33,
     "metadata": {},
     "output_type": "execute_result"
    }
   ],
   "source": [
    "comms_clean.dtypes"
   ]
  },
  {
   "cell_type": "code",
   "execution_count": 34,
   "metadata": {},
   "outputs": [],
   "source": [
    "comms_clean['comment_score'] = comms_clean['comment_score'].astype(int)\n",
    "comms_clean['gilded'] = comms_clean['gilded'].astype(int)"
   ]
  },
  {
   "cell_type": "code",
   "execution_count": 35,
   "metadata": {},
   "outputs": [
    {
     "name": "stderr",
     "output_type": "stream",
     "text": [
      "C:\\Users\\james\\Anaconda3\\envs\\dsi\\lib\\site-packages\\seaborn\\categorical.py:1428: FutureWarning: remove_na is deprecated and is a private function. Do not use.\n",
      "  stat_data = remove_na(group_data)\n"
     ]
    },
    {
     "data": {
      "image/png": "[encoded data removed]",
      "text/plain": [
       "<Figure size 432x288 with 1 Axes>"
      ]
     },
     "metadata": {},
     "output_type": "display_data"
    }
   ],
   "source": [
    "plot_groupby(comms_clean, 'comment_score', 'flair_clean2')"
   ]
  },
  {
   "cell_type": "code",
   "execution_count": 36,
   "metadata": {
    "scrolled": true
   },
   "outputs": [
    {
     "data": {
      "image/png": "[encoded data removed]",
      "text/plain": [
       "<Figure size 1080x576 with 1 Axes>"
      ]
     },
     "metadata": {},
     "output_type": "display_data"
    }
   ],
   "source": [
    "fig = plt.figure(figsize = (15, 8))\n",
    "\n",
    "\n",
    "test = np.ndarray.tolist(comms_clean['flair_clean2'].unique())\n",
    "    \n",
    "for i in test:\n",
    "    try:\n",
    "        if math.isnan(float(i)):\n",
    "            test.remove(i)\n",
    "    except:\n",
    "        pass\n",
    "\n",
    "plt.bar(x=sorted(test), height=[i for i in comms_clean.groupby('flair_clean2')['comment_score'].agg('mean')], color='gray');\n",
    "\n",
    "plt.yticks(fontsize=14);\n",
    "plt.xlabel('Team Flair', fontsize=14);\n",
    "plt.ylabel('Mean comment score', fontsize=14);\n",
    "plt.title('Avg. Comment Score by Team Flair', fontsize=18);"
   ]
  },
  {
   "cell_type": "code",
   "execution_count": 37,
   "metadata": {},
   "outputs": [],
   "source": [
    "game_threads = ['8mvx3q', '8mukqm', '8mmx15', '8mlo7f']\n",
    "\n",
    "comms_clean['game_thread'] = comms_clean['post_id'].map(lambda x: 1 if x in game_threads else 0)"
   ]
  },
  {
   "cell_type": "code",
   "execution_count": 38,
   "metadata": {},
   "outputs": [
    {
     "data": {
      "image/png": "[encoded data removed]",
      "text/plain": [
       "<Figure size 1080x576 with 1 Axes>"
      ]
     },
     "metadata": {},
     "output_type": "display_data"
    }
   ],
   "source": [
    "no_gt = comms_clean[comms_clean['game_thread']==0]\n",
    "\n",
    "fig = plt.figure(figsize = (15, 8))\n",
    "\n",
    "\n",
    "test = np.ndarray.tolist(no_gt['flair_clean2'].unique())\n",
    "    \n",
    "for i in test:\n",
    "    try:\n",
    "        if math.isnan(float(i)):\n",
    "            test.remove(i)\n",
    "    except:\n",
    "        pass\n",
    "\n",
    "plt.bar(x=sorted(test), height=[i for i in no_gt.groupby('flair_clean2')['comment_score'].agg('mean')], color='gray');\n",
    "\n",
    "plt.yticks(fontsize=14);\n",
    "plt.xlabel('Team Flair', fontsize=14);\n",
    "plt.ylabel('Mean comment score', fontsize=14);\n",
    "plt.title('Avg. Comment Score by Team Flair', fontsize=18);"
   ]
  },
  {
   "cell_type": "code",
   "execution_count": 127,
   "metadata": {},
   "outputs": [],
   "source": [
    "# rnbafull = pd.read_csv('./rnba_top1000.csv')"
   ]
  },
  {
   "cell_type": "code",
   "execution_count": 445,
   "metadata": {},
   "outputs": [],
   "source": [
    "# rnba.to_csv('./rnba_top10_initial.csv', index=False)\n",
    "# all_comments.to_csv('./rnba_comments_top10.csv', index=False)"
   ]
  },
  {
   "cell_type": "markdown",
   "metadata": {},
   "source": [
    "**BORDER**\n",
    "___________________________\n",
    "**BORDER**"
   ]
  },
  {
   "cell_type": "markdown",
   "metadata": {},
   "source": [
    "### Now, we're going to start some modeling."
   ]
  },
  {
   "cell_type": "markdown",
   "metadata": {},
   "source": [
    "**Next Steps**\n",
    "\n",
    "1. dummy features off of flair\n",
    "2. CVEC or TF-IDF on comment_text corpus\n",
    "3. Put into logreg for both importance AND direction of coefs\n",
    "4. Decision tree just returns importance of coefs\n",
    "5. Zip back up into list with feature names"
   ]
  },
  {
   "cell_type": "markdown",
   "metadata": {},
   "source": [
    "**1: Dummy features from flair**"
   ]
  },
  {
   "cell_type": "code",
   "execution_count": 39,
   "metadata": {
    "scrolled": true
   },
   "outputs": [
    {
     "data": {
      "text/html": [
       "<div>\n",
       "<style scoped>\n",
       "    .dataframe tbody tr th:only-of-type {\n",
       "        vertical-align: middle;\n",
       "    }\n",
       "\n",
       "    .dataframe tbody tr th {\n",
       "        vertical-align: top;\n",
       "    }\n",
       "\n",
       "    .dataframe thead th {\n",
       "        text-align: right;\n",
       "    }\n",
       "</style>\n",
       "<table border=\"1\" class=\"dataframe\">\n",
       "  <thead>\n",
       "    <tr style=\"text-align: right;\">\n",
       "      <th></th>\n",
       "      <th>post_id</th>\n",
       "      <th>comment_text</th>\n",
       "      <th>comment_score</th>\n",
       "      <th>gilded</th>\n",
       "      <th>top_comment</th>\n",
       "      <th>flair</th>\n",
       "      <th>game_thread</th>\n",
       "    </tr>\n",
       "  </thead>\n",
       "  <tbody>\n",
       "    <tr>\n",
       "      <th>0</th>\n",
       "      <td>8mzbgk</td>\n",
       "      <td>Serena Williams did voice work in avatar the l...</td>\n",
       "      <td>31</td>\n",
       "      <td>0</td>\n",
       "      <td>1</td>\n",
       "      <td>other</td>\n",
       "      <td>0</td>\n",
       "    </tr>\n",
       "    <tr>\n",
       "      <th>1</th>\n",
       "      <td>8mzbgk</td>\n",
       "      <td>r/nba on suicide watch</td>\n",
       "      <td>33</td>\n",
       "      <td>0</td>\n",
       "      <td>1</td>\n",
       "      <td>SAS</td>\n",
       "      <td>0</td>\n",
       "    </tr>\n",
       "    <tr>\n",
       "      <th>2</th>\n",
       "      <td>8mzbgk</td>\n",
       "      <td>Told my wife this and might as well tell r/nba...</td>\n",
       "      <td>18</td>\n",
       "      <td>0</td>\n",
       "      <td>1</td>\n",
       "      <td>CLE</td>\n",
       "      <td>0</td>\n",
       "    </tr>\n",
       "    <tr>\n",
       "      <th>3</th>\n",
       "      <td>8mzbgk</td>\n",
       "      <td>is everyone okay? everyone get some good sleep...</td>\n",
       "      <td>32</td>\n",
       "      <td>0</td>\n",
       "      <td>1</td>\n",
       "      <td>DAL</td>\n",
       "      <td>0</td>\n",
       "    </tr>\n",
       "    <tr>\n",
       "      <th>4</th>\n",
       "      <td>8mzbgk</td>\n",
       "      <td>banh mi is the shit</td>\n",
       "      <td>14</td>\n",
       "      <td>0</td>\n",
       "      <td>1</td>\n",
       "      <td>other</td>\n",
       "      <td>0</td>\n",
       "    </tr>\n",
       "  </tbody>\n",
       "</table>\n",
       "</div>"
      ],
      "text/plain": [
       "  post_id                                       comment_text  comment_score  \\\n",
       "0  8mzbgk  Serena Williams did voice work in avatar the l...             31   \n",
       "1  8mzbgk                             r/nba on suicide watch             33   \n",
       "2  8mzbgk  Told my wife this and might as well tell r/nba...             18   \n",
       "3  8mzbgk  is everyone okay? everyone get some good sleep...             32   \n",
       "4  8mzbgk                                banh mi is the shit             14   \n",
       "\n",
       "   gilded  top_comment  flair  game_thread  \n",
       "0       0            1  other            0  \n",
       "1       0            1    SAS            0  \n",
       "2       0            1    CLE            0  \n",
       "3       0            1    DAL            0  \n",
       "4       0            1  other            0  "
      ]
     },
     "execution_count": 39,
     "metadata": {},
     "output_type": "execute_result"
    }
   ],
   "source": [
    "model_df = comms_clean.drop(['flair_text', 'flair_clean1'], axis=1)\n",
    "model_df.rename({'flair_clean2':'flair'}, axis=1, inplace=True)\n",
    "model_df.head()"
   ]
  },
  {
   "cell_type": "code",
   "execution_count": 121,
   "metadata": {
    "scrolled": false
   },
   "outputs": [
    {
     "data": {
      "text/plain": [
       "flair\n",
       "TOR         46.435309\n",
       "ORL         43.510386\n",
       "LAC         33.897759\n",
       "MIA         33.268179\n",
       "PHI         30.072191\n",
       "PHO         26.629020\n",
       "OKC         26.082474\n",
       "MIN         24.812749\n",
       "DAL         24.409738\n",
       "other       24.017261\n",
       "UTA         23.642341\n",
       "MIL         23.564959\n",
       "NOP         23.197617\n",
       "IND         22.858763\n",
       "NYK         22.226960\n",
       "WAS         22.030848\n",
       "CHA         21.630975\n",
       "CHI         21.398124\n",
       "SAS         20.487381\n",
       "LAL         20.464866\n",
       "BOS         20.396935\n",
       "BKN         20.328849\n",
       "DEN         20.011136\n",
       "CLE         19.360089\n",
       "DET         17.435233\n",
       "SAC         17.335159\n",
       "ATL         16.397810\n",
       "no_flair    15.204274\n",
       "HOU         14.541991\n",
       "GSW         14.167179\n",
       "MEM          9.684438\n",
       "Name: comment_score, dtype: float64"
      ]
     },
     "execution_count": 121,
     "metadata": {},
     "output_type": "execute_result"
    }
   ],
   "source": [
    "model_df.groupby('flair')['comment_score'].agg('mean').sort_values(ascending=False)"
   ]
  },
  {
   "cell_type": "code",
   "execution_count": 119,
   "metadata": {},
   "outputs": [],
   "source": [
    "## save this for later: \n",
    "# corpus = model_df['comment_text']"
   ]
  },
  {
   "cell_type": "code",
   "execution_count": 40,
   "metadata": {},
   "outputs": [],
   "source": [
    "dummy_df = model_df[['gilded', 'top_comment', 'game_thread', 'flair']]"
   ]
  },
  {
   "cell_type": "code",
   "execution_count": 41,
   "metadata": {},
   "outputs": [],
   "source": [
    "dummy_df = pd.get_dummies(dummy_df, columns=['flair'])"
   ]
  },
  {
   "cell_type": "code",
   "execution_count": 42,
   "metadata": {
    "scrolled": true
   },
   "outputs": [
    {
     "data": {
      "text/html": [
       "<div>\n",
       "<style scoped>\n",
       "    .dataframe tbody tr th:only-of-type {\n",
       "        vertical-align: middle;\n",
       "    }\n",
       "\n",
       "    .dataframe tbody tr th {\n",
       "        vertical-align: top;\n",
       "    }\n",
       "\n",
       "    .dataframe thead th {\n",
       "        text-align: right;\n",
       "    }\n",
       "</style>\n",
       "<table border=\"1\" class=\"dataframe\">\n",
       "  <thead>\n",
       "    <tr style=\"text-align: right;\">\n",
       "      <th></th>\n",
       "      <th>gilded</th>\n",
       "      <th>top_comment</th>\n",
       "      <th>game_thread</th>\n",
       "      <th>flair_ATL</th>\n",
       "      <th>flair_BKN</th>\n",
       "      <th>flair_BOS</th>\n",
       "      <th>flair_CHA</th>\n",
       "      <th>flair_CHI</th>\n",
       "      <th>flair_CLE</th>\n",
       "      <th>flair_DAL</th>\n",
       "      <th>...</th>\n",
       "      <th>flair_ORL</th>\n",
       "      <th>flair_PHI</th>\n",
       "      <th>flair_PHO</th>\n",
       "      <th>flair_SAC</th>\n",
       "      <th>flair_SAS</th>\n",
       "      <th>flair_TOR</th>\n",
       "      <th>flair_UTA</th>\n",
       "      <th>flair_WAS</th>\n",
       "      <th>flair_no_flair</th>\n",
       "      <th>flair_other</th>\n",
       "    </tr>\n",
       "  </thead>\n",
       "  <tbody>\n",
       "    <tr>\n",
       "      <th>0</th>\n",
       "      <td>0</td>\n",
       "      <td>1</td>\n",
       "      <td>0</td>\n",
       "      <td>0</td>\n",
       "      <td>0</td>\n",
       "      <td>0</td>\n",
       "      <td>0</td>\n",
       "      <td>0</td>\n",
       "      <td>0</td>\n",
       "      <td>0</td>\n",
       "      <td>...</td>\n",
       "      <td>0</td>\n",
       "      <td>0</td>\n",
       "      <td>0</td>\n",
       "      <td>0</td>\n",
       "      <td>0</td>\n",
       "      <td>0</td>\n",
       "      <td>0</td>\n",
       "      <td>0</td>\n",
       "      <td>0</td>\n",
       "      <td>1</td>\n",
       "    </tr>\n",
       "    <tr>\n",
       "      <th>1</th>\n",
       "      <td>0</td>\n",
       "      <td>1</td>\n",
       "      <td>0</td>\n",
       "      <td>0</td>\n",
       "      <td>0</td>\n",
       "      <td>0</td>\n",
       "      <td>0</td>\n",
       "      <td>0</td>\n",
       "      <td>0</td>\n",
       "      <td>0</td>\n",
       "      <td>...</td>\n",
       "      <td>0</td>\n",
       "      <td>0</td>\n",
       "      <td>0</td>\n",
       "      <td>0</td>\n",
       "      <td>1</td>\n",
       "      <td>0</td>\n",
       "      <td>0</td>\n",
       "      <td>0</td>\n",
       "      <td>0</td>\n",
       "      <td>0</td>\n",
       "    </tr>\n",
       "    <tr>\n",
       "      <th>2</th>\n",
       "      <td>0</td>\n",
       "      <td>1</td>\n",
       "      <td>0</td>\n",
       "      <td>0</td>\n",
       "      <td>0</td>\n",
       "      <td>0</td>\n",
       "      <td>0</td>\n",
       "      <td>0</td>\n",
       "      <td>1</td>\n",
       "      <td>0</td>\n",
       "      <td>...</td>\n",
       "      <td>0</td>\n",
       "      <td>0</td>\n",
       "      <td>0</td>\n",
       "      <td>0</td>\n",
       "      <td>0</td>\n",
       "      <td>0</td>\n",
       "      <td>0</td>\n",
       "      <td>0</td>\n",
       "      <td>0</td>\n",
       "      <td>0</td>\n",
       "    </tr>\n",
       "  </tbody>\n",
       "</table>\n",
       "<p>3 rows × 34 columns</p>\n",
       "</div>"
      ],
      "text/plain": [
       "   gilded  top_comment  game_thread  flair_ATL  flair_BKN  flair_BOS  \\\n",
       "0       0            1            0          0          0          0   \n",
       "1       0            1            0          0          0          0   \n",
       "2       0            1            0          0          0          0   \n",
       "\n",
       "   flair_CHA  flair_CHI  flair_CLE  flair_DAL     ...       flair_ORL  \\\n",
       "0          0          0          0          0     ...               0   \n",
       "1          0          0          0          0     ...               0   \n",
       "2          0          0          1          0     ...               0   \n",
       "\n",
       "   flair_PHI  flair_PHO  flair_SAC  flair_SAS  flair_TOR  flair_UTA  \\\n",
       "0          0          0          0          0          0          0   \n",
       "1          0          0          0          1          0          0   \n",
       "2          0          0          0          0          0          0   \n",
       "\n",
       "   flair_WAS  flair_no_flair  flair_other  \n",
       "0          0               0            1  \n",
       "1          0               0            0  \n",
       "2          0               0            0  \n",
       "\n",
       "[3 rows x 34 columns]"
      ]
     },
     "execution_count": 42,
     "metadata": {},
     "output_type": "execute_result"
    }
   ],
   "source": [
    "dummy_df.head(3)"
   ]
  },
  {
   "cell_type": "markdown",
   "metadata": {},
   "source": [
    "**2. CVEC the comment text!**"
   ]
  },
  {
   "cell_type": "code",
   "execution_count": 43,
   "metadata": {},
   "outputs": [],
   "source": [
    "## separating out into game thread and non-game thread posts\n",
    "ready_df = pd.concat([model_df[['comment_text', 'comment_score']], dummy_df], axis=1)"
   ]
  },
  {
   "cell_type": "code",
   "execution_count": 44,
   "metadata": {},
   "outputs": [],
   "source": [
    "ready_df['gilded'] = ready_df['gilded'].map(lambda x: 1 if x>=1 else 0)"
   ]
  },
  {
   "cell_type": "code",
   "execution_count": 45,
   "metadata": {},
   "outputs": [],
   "source": [
    "ready_nogt = ready_df[ready_df['game_thread']==0]\n",
    "ready_gt = ready_df[ready_df['game_thread']==1]"
   ]
  },
  {
   "cell_type": "code",
   "execution_count": 46,
   "metadata": {},
   "outputs": [
    {
     "name": "stderr",
     "output_type": "stream",
     "text": [
      "C:\\Users\\james\\Anaconda3\\envs\\dsi\\lib\\site-packages\\ipykernel\\__main__.py:4: SettingWithCopyWarning: \n",
      "A value is trying to be set on a copy of a slice from a DataFrame.\n",
      "Try using .loc[row_indexer,col_indexer] = value instead\n",
      "\n",
      "See the caveats in the documentation: http://pandas.pydata.org/pandas-docs/stable/indexing.html#indexing-view-versus-copy\n",
      "C:\\Users\\james\\Anaconda3\\envs\\dsi\\lib\\site-packages\\ipykernel\\__main__.py:5: SettingWithCopyWarning: \n",
      "A value is trying to be set on a copy of a slice from a DataFrame.\n",
      "Try using .loc[row_indexer,col_indexer] = value instead\n",
      "\n",
      "See the caveats in the documentation: http://pandas.pydata.org/pandas-docs/stable/indexing.html#indexing-view-versus-copy\n"
     ]
    }
   ],
   "source": [
    "gt_med = ready_gt['comment_score'].median()\n",
    "ngt_med = ready_nogt['comment_score'].median()\n",
    "\n",
    "ready_gt['target'] = ready_gt['comment_score'].map(lambda x: 1 if x>= gt_med else 0)\n",
    "ready_nogt['target'] = ready_nogt['comment_score'].map(lambda x: 1 if x>= ngt_med else 0)"
   ]
  },
  {
   "cell_type": "code",
   "execution_count": 47,
   "metadata": {},
   "outputs": [
    {
     "name": "stdout",
     "output_type": "stream",
     "text": [
      "1    55924\n",
      "0     5804\n",
      "Name: target, dtype: int64\n",
      "\n",
      "1    50458\n",
      "0    33123\n",
      "Name: target, dtype: int64\n"
     ]
    }
   ],
   "source": [
    "print(ready_gt['target'].value_counts())\n",
    "print()\n",
    "print(ready_nogt['target'].value_counts())"
   ]
  },
  {
   "cell_type": "code",
   "execution_count": 2,
   "metadata": {},
   "outputs": [
    {
     "ename": "NameError",
     "evalue": "name 'ready_gt' is not defined",
     "output_type": "error",
     "traceback": [
      "\u001b[1;31m---------------------------------------------------------------------------\u001b[0m",
      "\u001b[1;31mNameError\u001b[0m                                 Traceback (most recent call last)",
      "\u001b[1;32m<ipython-input-2-3e0d68fa8949>\u001b[0m in \u001b[0;36m<module>\u001b[1;34m()\u001b[0m\n\u001b[1;32m----> 1\u001b[1;33m \u001b[0mready_gt\u001b[0m\u001b[1;33m.\u001b[0m\u001b[0mto_csv\u001b[0m\u001b[1;33m(\u001b[0m\u001b[1;34m'./ready_gt.csv'\u001b[0m\u001b[1;33m)\u001b[0m\u001b[1;33m\u001b[0m\u001b[0m\n\u001b[0m\u001b[0;32m      2\u001b[0m \u001b[0mready_nogt\u001b[0m\u001b[1;33m.\u001b[0m\u001b[0mto_csv\u001b[0m\u001b[1;33m(\u001b[0m\u001b[1;34m'./ready_nogt.csv'\u001b[0m\u001b[1;33m)\u001b[0m\u001b[1;33m\u001b[0m\u001b[0m\n",
      "\u001b[1;31mNameError\u001b[0m: name 'ready_gt' is not defined"
     ]
    }
   ],
   "source": [
    "ready_gt.to_csv('./ready_gt.csv')\n",
    "ready_nogt.to_csv('./ready_nogt.csv')"
   ]
  },
  {
   "cell_type": "markdown",
   "metadata": {},
   "source": [
    "** read in `ready_gt` and `ready_nogt` csv's here if re-starting **"
   ]
  },
  {
   "cell_type": "code",
   "execution_count": 2,
   "metadata": {},
   "outputs": [],
   "source": [
    "ready_gt = pd.read_csv('./ready_gt.csv', index_col=0)\n",
    "ready_nogt = pd.read_csv('./ready_nogt.csv', index_col=0)"
   ]
  },
  {
   "cell_type": "code",
   "execution_count": 3,
   "metadata": {},
   "outputs": [],
   "source": [
    "from sklearn.model_selection import train_test_split\n",
    "from sklearn.preprocessing import StandardScaler\n",
    "from sklearn.tree import DecisionTreeClassifier\n",
    "from sklearn.ensemble import RandomForestClassifier\n",
    "from sklearn.linear_model import LogisticRegression"
   ]
  },
  {
   "cell_type": "code",
   "execution_count": 5,
   "metadata": {
    "scrolled": true
   },
   "outputs": [
    {
     "data": {
      "text/html": [
       "<div>\n",
       "<style scoped>\n",
       "    .dataframe tbody tr th:only-of-type {\n",
       "        vertical-align: middle;\n",
       "    }\n",
       "\n",
       "    .dataframe tbody tr th {\n",
       "        vertical-align: top;\n",
       "    }\n",
       "\n",
       "    .dataframe thead th {\n",
       "        text-align: right;\n",
       "    }\n",
       "</style>\n",
       "<table border=\"1\" class=\"dataframe\">\n",
       "  <thead>\n",
       "    <tr style=\"text-align: right;\">\n",
       "      <th></th>\n",
       "      <th>comment_text</th>\n",
       "      <th>comment_score</th>\n",
       "      <th>gilded</th>\n",
       "      <th>top_comment</th>\n",
       "      <th>game_thread</th>\n",
       "      <th>flair_ATL</th>\n",
       "      <th>flair_BKN</th>\n",
       "      <th>flair_BOS</th>\n",
       "      <th>flair_CHA</th>\n",
       "      <th>flair_CHI</th>\n",
       "      <th>...</th>\n",
       "      <th>flair_PHI</th>\n",
       "      <th>flair_PHO</th>\n",
       "      <th>flair_SAC</th>\n",
       "      <th>flair_SAS</th>\n",
       "      <th>flair_TOR</th>\n",
       "      <th>flair_UTA</th>\n",
       "      <th>flair_WAS</th>\n",
       "      <th>flair_no_flair</th>\n",
       "      <th>flair_other</th>\n",
       "      <th>target</th>\n",
       "    </tr>\n",
       "  </thead>\n",
       "  <tbody>\n",
       "    <tr>\n",
       "      <th>0</th>\n",
       "      <td>Serena Williams did voice work in avatar the l...</td>\n",
       "      <td>31</td>\n",
       "      <td>0</td>\n",
       "      <td>1</td>\n",
       "      <td>0</td>\n",
       "      <td>0</td>\n",
       "      <td>0</td>\n",
       "      <td>0</td>\n",
       "      <td>0</td>\n",
       "      <td>0</td>\n",
       "      <td>...</td>\n",
       "      <td>0</td>\n",
       "      <td>0</td>\n",
       "      <td>0</td>\n",
       "      <td>0</td>\n",
       "      <td>0</td>\n",
       "      <td>0</td>\n",
       "      <td>0</td>\n",
       "      <td>0</td>\n",
       "      <td>1</td>\n",
       "      <td>1</td>\n",
       "    </tr>\n",
       "    <tr>\n",
       "      <th>1</th>\n",
       "      <td>r/nba on suicide watch</td>\n",
       "      <td>33</td>\n",
       "      <td>0</td>\n",
       "      <td>1</td>\n",
       "      <td>0</td>\n",
       "      <td>0</td>\n",
       "      <td>0</td>\n",
       "      <td>0</td>\n",
       "      <td>0</td>\n",
       "      <td>0</td>\n",
       "      <td>...</td>\n",
       "      <td>0</td>\n",
       "      <td>0</td>\n",
       "      <td>0</td>\n",
       "      <td>1</td>\n",
       "      <td>0</td>\n",
       "      <td>0</td>\n",
       "      <td>0</td>\n",
       "      <td>0</td>\n",
       "      <td>0</td>\n",
       "      <td>1</td>\n",
       "    </tr>\n",
       "    <tr>\n",
       "      <th>2</th>\n",
       "      <td>Told my wife this and might as well tell r/nba...</td>\n",
       "      <td>18</td>\n",
       "      <td>0</td>\n",
       "      <td>1</td>\n",
       "      <td>0</td>\n",
       "      <td>0</td>\n",
       "      <td>0</td>\n",
       "      <td>0</td>\n",
       "      <td>0</td>\n",
       "      <td>0</td>\n",
       "      <td>...</td>\n",
       "      <td>0</td>\n",
       "      <td>0</td>\n",
       "      <td>0</td>\n",
       "      <td>0</td>\n",
       "      <td>0</td>\n",
       "      <td>0</td>\n",
       "      <td>0</td>\n",
       "      <td>0</td>\n",
       "      <td>0</td>\n",
       "      <td>1</td>\n",
       "    </tr>\n",
       "  </tbody>\n",
       "</table>\n",
       "<p>3 rows × 37 columns</p>\n",
       "</div>"
      ],
      "text/plain": [
       "                                        comment_text  comment_score  gilded  \\\n",
       "0  Serena Williams did voice work in avatar the l...             31       0   \n",
       "1                             r/nba on suicide watch             33       0   \n",
       "2  Told my wife this and might as well tell r/nba...             18       0   \n",
       "\n",
       "   top_comment  game_thread  flair_ATL  flair_BKN  flair_BOS  flair_CHA  \\\n",
       "0            1            0          0          0          0          0   \n",
       "1            1            0          0          0          0          0   \n",
       "2            1            0          0          0          0          0   \n",
       "\n",
       "   flair_CHI   ...    flair_PHI  flair_PHO  flair_SAC  flair_SAS  flair_TOR  \\\n",
       "0          0   ...            0          0          0          0          0   \n",
       "1          0   ...            0          0          0          1          0   \n",
       "2          0   ...            0          0          0          0          0   \n",
       "\n",
       "   flair_UTA  flair_WAS  flair_no_flair  flair_other  target  \n",
       "0          0          0               0            1       1  \n",
       "1          0          0               0            0       1  \n",
       "2          0          0               0            0       1  \n",
       "\n",
       "[3 rows x 37 columns]"
      ]
     },
     "execution_count": 5,
     "metadata": {},
     "output_type": "execute_result"
    }
   ],
   "source": [
    "ready_nogt.head(3)"
   ]
  },
  {
   "cell_type": "code",
   "execution_count": 6,
   "metadata": {
    "scrolled": true
   },
   "outputs": [
    {
     "data": {
      "text/html": [
       "<div>\n",
       "<style scoped>\n",
       "    .dataframe tbody tr th:only-of-type {\n",
       "        vertical-align: middle;\n",
       "    }\n",
       "\n",
       "    .dataframe tbody tr th {\n",
       "        vertical-align: top;\n",
       "    }\n",
       "\n",
       "    .dataframe thead th {\n",
       "        text-align: right;\n",
       "    }\n",
       "</style>\n",
       "<table border=\"1\" class=\"dataframe\">\n",
       "  <thead>\n",
       "    <tr style=\"text-align: right;\">\n",
       "      <th></th>\n",
       "      <th>comment_text</th>\n",
       "      <th>comment_score</th>\n",
       "      <th>gilded</th>\n",
       "      <th>top_comment</th>\n",
       "      <th>game_thread</th>\n",
       "      <th>flair_ATL</th>\n",
       "      <th>flair_BKN</th>\n",
       "      <th>flair_BOS</th>\n",
       "      <th>flair_CHA</th>\n",
       "      <th>flair_CHI</th>\n",
       "      <th>...</th>\n",
       "      <th>flair_PHI</th>\n",
       "      <th>flair_PHO</th>\n",
       "      <th>flair_SAC</th>\n",
       "      <th>flair_SAS</th>\n",
       "      <th>flair_TOR</th>\n",
       "      <th>flair_UTA</th>\n",
       "      <th>flair_WAS</th>\n",
       "      <th>flair_no_flair</th>\n",
       "      <th>flair_other</th>\n",
       "      <th>target</th>\n",
       "    </tr>\n",
       "  </thead>\n",
       "  <tbody>\n",
       "    <tr>\n",
       "      <th>15689</th>\n",
       "      <td>If Trevor Ariza and Terry Rozier were the shoo...</td>\n",
       "      <td>8567</td>\n",
       "      <td>1</td>\n",
       "      <td>1</td>\n",
       "      <td>1</td>\n",
       "      <td>0</td>\n",
       "      <td>0</td>\n",
       "      <td>0</td>\n",
       "      <td>0</td>\n",
       "      <td>0</td>\n",
       "      <td>...</td>\n",
       "      <td>0</td>\n",
       "      <td>0</td>\n",
       "      <td>0</td>\n",
       "      <td>0</td>\n",
       "      <td>0</td>\n",
       "      <td>0</td>\n",
       "      <td>0</td>\n",
       "      <td>1</td>\n",
       "      <td>0</td>\n",
       "      <td>1</td>\n",
       "    </tr>\n",
       "    <tr>\n",
       "      <th>15690</th>\n",
       "      <td>LeBron should just rent a place in the Bay Area.</td>\n",
       "      <td>5776</td>\n",
       "      <td>0</td>\n",
       "      <td>1</td>\n",
       "      <td>1</td>\n",
       "      <td>0</td>\n",
       "      <td>0</td>\n",
       "      <td>0</td>\n",
       "      <td>0</td>\n",
       "      <td>0</td>\n",
       "      <td>...</td>\n",
       "      <td>0</td>\n",
       "      <td>0</td>\n",
       "      <td>0</td>\n",
       "      <td>0</td>\n",
       "      <td>0</td>\n",
       "      <td>0</td>\n",
       "      <td>0</td>\n",
       "      <td>1</td>\n",
       "      <td>0</td>\n",
       "      <td>1</td>\n",
       "    </tr>\n",
       "    <tr>\n",
       "      <th>15691</th>\n",
       "      <td>crazy how similar these last two games 7s were...</td>\n",
       "      <td>3466</td>\n",
       "      <td>0</td>\n",
       "      <td>1</td>\n",
       "      <td>1</td>\n",
       "      <td>0</td>\n",
       "      <td>0</td>\n",
       "      <td>0</td>\n",
       "      <td>0</td>\n",
       "      <td>0</td>\n",
       "      <td>...</td>\n",
       "      <td>0</td>\n",
       "      <td>0</td>\n",
       "      <td>0</td>\n",
       "      <td>0</td>\n",
       "      <td>1</td>\n",
       "      <td>0</td>\n",
       "      <td>0</td>\n",
       "      <td>0</td>\n",
       "      <td>0</td>\n",
       "      <td>1</td>\n",
       "    </tr>\n",
       "  </tbody>\n",
       "</table>\n",
       "<p>3 rows × 37 columns</p>\n",
       "</div>"
      ],
      "text/plain": [
       "                                            comment_text  comment_score  \\\n",
       "15689  If Trevor Ariza and Terry Rozier were the shoo...           8567   \n",
       "15690  LeBron should just rent a place in the Bay Area.            5776   \n",
       "15691  crazy how similar these last two games 7s were...           3466   \n",
       "\n",
       "       gilded  top_comment  game_thread  flair_ATL  flair_BKN  flair_BOS  \\\n",
       "15689       1            1            1          0          0          0   \n",
       "15690       0            1            1          0          0          0   \n",
       "15691       0            1            1          0          0          0   \n",
       "\n",
       "       flair_CHA  flair_CHI   ...    flair_PHI  flair_PHO  flair_SAC  \\\n",
       "15689          0          0   ...            0          0          0   \n",
       "15690          0          0   ...            0          0          0   \n",
       "15691          0          0   ...            0          0          0   \n",
       "\n",
       "       flair_SAS  flair_TOR  flair_UTA  flair_WAS  flair_no_flair  \\\n",
       "15689          0          0          0          0               1   \n",
       "15690          0          0          0          0               1   \n",
       "15691          0          1          0          0               0   \n",
       "\n",
       "       flair_other  target  \n",
       "15689            0       1  \n",
       "15690            0       1  \n",
       "15691            0       1  \n",
       "\n",
       "[3 rows x 37 columns]"
      ]
     },
     "execution_count": 6,
     "metadata": {},
     "output_type": "execute_result"
    }
   ],
   "source": [
    "ready_gt.head(3)"
   ]
  },
  {
   "cell_type": "code",
   "execution_count": 51,
   "metadata": {},
   "outputs": [],
   "source": [
    "masky = ['flair_'+i for i in short_teams]\n",
    "# masky.append('comment_score')\n",
    "masky.remove('flair_POR')"
   ]
  },
  {
   "cell_type": "code",
   "execution_count": 52,
   "metadata": {},
   "outputs": [
    {
     "data": {
      "text/plain": [
       "'BOS'"
      ]
     },
     "execution_count": 52,
     "metadata": {},
     "output_type": "execute_result"
    }
   ],
   "source": [
    "masky[0][-3:]"
   ]
  },
  {
   "cell_type": "code",
   "execution_count": 53,
   "metadata": {},
   "outputs": [
    {
     "data": {
      "image/png": "[encoded data removed]",
      "text/plain": [
       "<Figure size 1296x576 with 1 Axes>"
      ]
     },
     "metadata": {},
     "output_type": "display_data"
    }
   ],
   "source": [
    "fig = plt.figure(figsize = (18, 8))\n",
    "\n",
    "thingy = ready_gt[masky].sum()\n",
    "\n",
    "plt.title('Total # comments by Team Flair', fontsize=18, weight='bold');\n",
    "\n",
    "plt.bar([i[-3:] for i in thingy.sort_values(ascending=False).index], thingy.sort_values(ascending=False));\n",
    "plt.tick_params(labelsize=14);\n",
    "plt.ylabel('# comments', fontsize=14, weight='bold');\n",
    "plt.xlabel('Commenter Team Flair', fontsize=14, weight='bold');"
   ]
  },
  {
   "cell_type": "markdown",
   "metadata": {},
   "source": [
    "**2. Let's TTS, then CVEC. **\n",
    "\n",
    "Will do process on Not Game Threads first, then repeat with Game Threads."
   ]
  },
  {
   "cell_type": "code",
   "execution_count": 4,
   "metadata": {},
   "outputs": [],
   "source": [
    "from scipy.signal import resample"
   ]
  },
  {
   "cell_type": "code",
   "execution_count": 5,
   "metadata": {},
   "outputs": [],
   "source": [
    "## Taking random sample of half of the train data, since the last 3 attempts with the full set triggered memory errors :(\n",
    "np.random.seed(22)\n",
    "Xn = ready_nogt.drop(['target', 'comment_score', 'gilded'], axis=1)\n",
    "Xn = Xn.loc[np.random.choice(Xn.index, size=int(np.round(Xn.shape[0]*.5)), replace=False)]\n",
    "yn = ready_nogt.loc[Xn.index, 'target']"
   ]
  },
  {
   "cell_type": "code",
   "execution_count": 7,
   "metadata": {},
   "outputs": [
    {
     "data": {
      "text/plain": [
       "((41790, 34), (41790,))"
      ]
     },
     "execution_count": 7,
     "metadata": {},
     "output_type": "execute_result"
    }
   ],
   "source": [
    "Xn.shape, yn.shape"
   ]
  },
  {
   "cell_type": "code",
   "execution_count": 6,
   "metadata": {},
   "outputs": [],
   "source": [
    "Xn_train, Xn_test, yn_train, yn_test = train_test_split(Xn, yn, random_state=22)"
   ]
  },
  {
   "cell_type": "code",
   "execution_count": 54,
   "metadata": {},
   "outputs": [],
   "source": [
    "# ## creating X and y sets. Dropping comment_score and gilded since they are probably \n",
    "# ## too collinear to high/low comment score\n",
    "\n",
    "# Xn = ready_nogt.drop(['target', 'comment_score', 'gilded'], axis=1)\n",
    "# yn = ready_nogt['target']\n",
    "# Xn_train, Xn_test, yn_train, yn_test = train_test_split(Xn, yn, random_state=22)"
   ]
  },
  {
   "cell_type": "markdown",
   "metadata": {},
   "source": [
    "** Let's setup a pipeline to make the CVEC transformation easier **"
   ]
  },
  {
   "cell_type": "code",
   "execution_count": 7,
   "metadata": {},
   "outputs": [],
   "source": [
    "from sklearn.pipeline import Pipeline\n",
    "from sklearn.feature_extraction.text import CountVectorizer\n",
    "from sklearn.model_selection import GridSearchCV"
   ]
  },
  {
   "cell_type": "markdown",
   "metadata": {},
   "source": [
    "#### Make your own class/function that:\n",
    "1. takes in df\n",
    "2. splits out comment_text column\n",
    "3. CVEC (fit) transforms it (??)\n",
    "4. re-concates to orig dummies\n",
    "5. returns df you can put in pipeline?"
   ]
  },
  {
   "cell_type": "code",
   "execution_count": 8,
   "metadata": {},
   "outputs": [],
   "source": [
    "# def cvec_readier(df, text_col):\n",
    "#     '''Takes DataFrame w/ dummies and text column label as args.\n",
    "#     Separates two\n",
    "#     '''\n",
    "#     df1 = df.drop(text_col, axis=1)\n",
    "#     df2 = df[[text_col]]\n",
    "    \n",
    "#     corpus = df2[text_col]\n",
    "    \n",
    "#     new_corp = cvec.transform(corpus)\n",
    "    \n",
    "#     return pd.concat([pd.DataFrame(new_corp.todense(), columns=cvec.get_feature_names()), df1], axis=1)"
   ]
  },
  {
   "cell_type": "code",
   "execution_count": 9,
   "metadata": {},
   "outputs": [],
   "source": [
    "cvec = CountVectorizer(stop_words='english')\n",
    "new_tr = cvec.fit_transform(Xn_train['comment_text'])\n",
    "new_te = cvec.transform(Xn_test['comment_text'])\n",
    "\n",
    "Xn_train = Xn_train.drop('comment_text', axis=1)\n",
    "Xn_test = Xn_test.drop('comment_text', axis=1)"
   ]
  },
  {
   "cell_type": "code",
   "execution_count": 10,
   "metadata": {
    "scrolled": false
   },
   "outputs": [],
   "source": [
    "# Xn_train.sum().sort_values(ascending=False)"
   ]
  },
  {
   "cell_type": "code",
   "execution_count": 11,
   "metadata": {},
   "outputs": [],
   "source": [
    "# text_df = pd.DataFrame(new_tr.todense(), columns=cvec.get_feature_names())"
   ]
  },
  {
   "cell_type": "code",
   "execution_count": 12,
   "metadata": {},
   "outputs": [],
   "source": [
    "# text_df.shape"
   ]
  },
  {
   "cell_type": "code",
   "execution_count": 13,
   "metadata": {},
   "outputs": [],
   "source": [
    "# text_df.sum().sort_values(ascending=False).head(50)"
   ]
  },
  {
   "cell_type": "code",
   "execution_count": 14,
   "metadata": {
    "scrolled": true
   },
   "outputs": [],
   "source": [
    "Xn_train_cvec = pd.concat([Xn_train, pd.DataFrame(new_tr.todense(), columns=cvec.get_feature_names(), index=Xn_train.index)], axis=1)"
   ]
  },
  {
   "cell_type": "code",
   "execution_count": 15,
   "metadata": {
    "scrolled": true
   },
   "outputs": [
    {
     "data": {
      "text/plain": [
       "(31342, 21207)"
      ]
     },
     "execution_count": 15,
     "metadata": {},
     "output_type": "execute_result"
    }
   ],
   "source": [
    "Xn_train_cvec.shape"
   ]
  },
  {
   "cell_type": "code",
   "execution_count": 16,
   "metadata": {},
   "outputs": [],
   "source": [
    "Xn_test_cvec = pd.concat([Xn_test, pd.DataFrame(new_te.todense(), columns=cvec.get_feature_names(), index=Xn_test.index.values)], axis=1)"
   ]
  },
  {
   "cell_type": "code",
   "execution_count": 17,
   "metadata": {},
   "outputs": [
    {
     "data": {
      "text/plain": [
       "(10448, 21207)"
      ]
     },
     "execution_count": 17,
     "metadata": {},
     "output_type": "execute_result"
    }
   ],
   "source": [
    "Xn_test_cvec.shape"
   ]
  },
  {
   "cell_type": "code",
   "execution_count": 16,
   "metadata": {},
   "outputs": [],
   "source": [
    "# Xn_train_cvec.to_csv('./Xn_train_cvec_comms.csv')\n",
    "# Xn_test_cvec.to_csv('./Xn_test_cvec_comms.csv')"
   ]
  },
  {
   "cell_type": "code",
   "execution_count": null,
   "metadata": {},
   "outputs": [],
   "source": [
    "### Xn_train_cvec.isnull().sum().sum()"
   ]
  },
  {
   "cell_type": "code",
   "execution_count": 37,
   "metadata": {},
   "outputs": [
    {
     "data": {
      "text/html": [
       "<div>\n",
       "<style scoped>\n",
       "    .dataframe tbody tr th:only-of-type {\n",
       "        vertical-align: middle;\n",
       "    }\n",
       "\n",
       "    .dataframe tbody tr th {\n",
       "        vertical-align: top;\n",
       "    }\n",
       "\n",
       "    .dataframe thead th {\n",
       "        text-align: right;\n",
       "    }\n",
       "</style>\n",
       "<table border=\"1\" class=\"dataframe\">\n",
       "  <thead>\n",
       "    <tr style=\"text-align: right;\">\n",
       "      <th></th>\n",
       "      <th>top_comment</th>\n",
       "      <th>game_thread</th>\n",
       "      <th>flair_ATL</th>\n",
       "      <th>flair_BKN</th>\n",
       "      <th>flair_BOS</th>\n",
       "      <th>flair_CHA</th>\n",
       "      <th>flair_CHI</th>\n",
       "      <th>flair_CLE</th>\n",
       "      <th>flair_DAL</th>\n",
       "      <th>flair_DEN</th>\n",
       "      <th>...</th>\n",
       "      <th>zygote</th>\n",
       "      <th>zynw6</th>\n",
       "      <th>zyt4hhp</th>\n",
       "      <th>zyyygoat</th>\n",
       "      <th>ée</th>\n",
       "      <th>éwee</th>\n",
       "      <th>ಠ_ಠ</th>\n",
       "      <th>彡ﾉ</th>\n",
       "      <th>詹姆斯牛逼</th>\n",
       "      <th>ﾌﾌ</th>\n",
       "    </tr>\n",
       "  </thead>\n",
       "  <tbody>\n",
       "    <tr>\n",
       "      <th>96378</th>\n",
       "      <td>0</td>\n",
       "      <td>0</td>\n",
       "      <td>0</td>\n",
       "      <td>0</td>\n",
       "      <td>0</td>\n",
       "      <td>0</td>\n",
       "      <td>0</td>\n",
       "      <td>0</td>\n",
       "      <td>0</td>\n",
       "      <td>0</td>\n",
       "      <td>...</td>\n",
       "      <td>0</td>\n",
       "      <td>0</td>\n",
       "      <td>0</td>\n",
       "      <td>0</td>\n",
       "      <td>0</td>\n",
       "      <td>0</td>\n",
       "      <td>0</td>\n",
       "      <td>0</td>\n",
       "      <td>0</td>\n",
       "      <td>0</td>\n",
       "    </tr>\n",
       "    <tr>\n",
       "      <th>7155</th>\n",
       "      <td>0</td>\n",
       "      <td>0</td>\n",
       "      <td>0</td>\n",
       "      <td>0</td>\n",
       "      <td>0</td>\n",
       "      <td>0</td>\n",
       "      <td>0</td>\n",
       "      <td>0</td>\n",
       "      <td>0</td>\n",
       "      <td>0</td>\n",
       "      <td>...</td>\n",
       "      <td>0</td>\n",
       "      <td>0</td>\n",
       "      <td>0</td>\n",
       "      <td>0</td>\n",
       "      <td>0</td>\n",
       "      <td>0</td>\n",
       "      <td>0</td>\n",
       "      <td>0</td>\n",
       "      <td>0</td>\n",
       "      <td>0</td>\n",
       "    </tr>\n",
       "    <tr>\n",
       "      <th>140674</th>\n",
       "      <td>0</td>\n",
       "      <td>0</td>\n",
       "      <td>0</td>\n",
       "      <td>0</td>\n",
       "      <td>0</td>\n",
       "      <td>0</td>\n",
       "      <td>0</td>\n",
       "      <td>0</td>\n",
       "      <td>0</td>\n",
       "      <td>0</td>\n",
       "      <td>...</td>\n",
       "      <td>0</td>\n",
       "      <td>0</td>\n",
       "      <td>0</td>\n",
       "      <td>0</td>\n",
       "      <td>0</td>\n",
       "      <td>0</td>\n",
       "      <td>0</td>\n",
       "      <td>0</td>\n",
       "      <td>0</td>\n",
       "      <td>0</td>\n",
       "    </tr>\n",
       "    <tr>\n",
       "      <th>137906</th>\n",
       "      <td>1</td>\n",
       "      <td>0</td>\n",
       "      <td>0</td>\n",
       "      <td>0</td>\n",
       "      <td>0</td>\n",
       "      <td>0</td>\n",
       "      <td>0</td>\n",
       "      <td>0</td>\n",
       "      <td>0</td>\n",
       "      <td>0</td>\n",
       "      <td>...</td>\n",
       "      <td>0</td>\n",
       "      <td>0</td>\n",
       "      <td>0</td>\n",
       "      <td>0</td>\n",
       "      <td>0</td>\n",
       "      <td>0</td>\n",
       "      <td>0</td>\n",
       "      <td>0</td>\n",
       "      <td>0</td>\n",
       "      <td>0</td>\n",
       "    </tr>\n",
       "    <tr>\n",
       "      <th>38449</th>\n",
       "      <td>0</td>\n",
       "      <td>0</td>\n",
       "      <td>0</td>\n",
       "      <td>0</td>\n",
       "      <td>0</td>\n",
       "      <td>0</td>\n",
       "      <td>0</td>\n",
       "      <td>0</td>\n",
       "      <td>0</td>\n",
       "      <td>0</td>\n",
       "      <td>...</td>\n",
       "      <td>0</td>\n",
       "      <td>0</td>\n",
       "      <td>0</td>\n",
       "      <td>0</td>\n",
       "      <td>0</td>\n",
       "      <td>0</td>\n",
       "      <td>0</td>\n",
       "      <td>0</td>\n",
       "      <td>0</td>\n",
       "      <td>0</td>\n",
       "    </tr>\n",
       "  </tbody>\n",
       "</table>\n",
       "<p>5 rows × 21207 columns</p>\n",
       "</div>"
      ],
      "text/plain": [
       "        top_comment  game_thread  flair_ATL  flair_BKN  flair_BOS  flair_CHA  \\\n",
       "96378             0            0          0          0          0          0   \n",
       "7155              0            0          0          0          0          0   \n",
       "140674            0            0          0          0          0          0   \n",
       "137906            1            0          0          0          0          0   \n",
       "38449             0            0          0          0          0          0   \n",
       "\n",
       "        flair_CHI  flair_CLE  flair_DAL  flair_DEN ...  zygote  zynw6  \\\n",
       "96378           0          0          0          0 ...       0      0   \n",
       "7155            0          0          0          0 ...       0      0   \n",
       "140674          0          0          0          0 ...       0      0   \n",
       "137906          0          0          0          0 ...       0      0   \n",
       "38449           0          0          0          0 ...       0      0   \n",
       "\n",
       "        zyt4hhp  zyyygoat  ée  éwee  ಠ_ಠ  彡ﾉ  詹姆斯牛逼  ﾌﾌ  \n",
       "96378         0         0   0     0    0   0      0   0  \n",
       "7155          0         0   0     0    0   0      0   0  \n",
       "140674        0         0   0     0    0   0      0   0  \n",
       "137906        0         0   0     0    0   0      0   0  \n",
       "38449         0         0   0     0    0   0      0   0  \n",
       "\n",
       "[5 rows x 21207 columns]"
      ]
     },
     "execution_count": 37,
     "metadata": {},
     "output_type": "execute_result"
    }
   ],
   "source": [
    "Xn_train_cvec.head()"
   ]
  },
  {
   "cell_type": "code",
   "execution_count": 28,
   "metadata": {},
   "outputs": [],
   "source": [
    "logpipe_ng = Pipeline([\n",
    "    ('ss', StandardScaler()),\n",
    "    ('logreg', LogisticRegression())\n",
    "])"
   ]
  },
  {
   "cell_type": "code",
   "execution_count": 18,
   "metadata": {},
   "outputs": [],
   "source": [
    "# logpipe_ng.fit(Xn_train_cvec, yn_train)\n",
    "\n",
    "# logpipe_ng.score(Xn_test_cvec, yn_test)"
   ]
  },
  {
   "cell_type": "code",
   "execution_count": 492,
   "metadata": {},
   "outputs": [],
   "source": [
    "# param_grid = {\n",
    "#     'cvec__max_features': [300000, None],\n",
    "#     'logreg__penalty': ['l2', 'l1']\n",
    "# }\n",
    "\n",
    "# param_grid = {}\n",
    "\n",
    "# gs_ng = GridSearchCV(logpipe_ng, param_grid, n_jobs=2, verbose=1)\n",
    "# gs_ng.fit(Xn_train, yn_train)"
   ]
  },
  {
   "cell_type": "code",
   "execution_count": 19,
   "metadata": {
    "scrolled": false
   },
   "outputs": [
    {
     "name": "stderr",
     "output_type": "stream",
     "text": [
      "[Parallel(n_jobs=-1)]: Done   6 out of  10 | elapsed:   14.6s remaining:    9.7s\n",
      "[Parallel(n_jobs=-1)]: Done  10 out of  10 | elapsed:   21.9s finished\n"
     ]
    },
    {
     "data": {
      "text/plain": [
       "RandomForestClassifier(bootstrap=True, class_weight=None, criterion='gini',\n",
       "            max_depth=None, max_features='auto', max_leaf_nodes=None,\n",
       "            min_impurity_decrease=0.0, min_impurity_split=None,\n",
       "            min_samples_leaf=1, min_samples_split=2,\n",
       "            min_weight_fraction_leaf=0.0, n_estimators=10, n_jobs=-1,\n",
       "            oob_score=False, random_state=None, verbose=1,\n",
       "            warm_start=False)"
      ]
     },
     "execution_count": 19,
     "metadata": {},
     "output_type": "execute_result"
    }
   ],
   "source": [
    "rf = RandomForestClassifier(n_jobs=-1, verbose=1)\n",
    "rf.fit(Xn_train_cvec, yn_train)"
   ]
  },
  {
   "cell_type": "code",
   "execution_count": 20,
   "metadata": {},
   "outputs": [
    {
     "name": "stderr",
     "output_type": "stream",
     "text": [
      "[Parallel(n_jobs=8)]: Done   6 out of  10 | elapsed:    0.2s remaining:    0.1s\n",
      "[Parallel(n_jobs=8)]: Done  10 out of  10 | elapsed:    0.3s finished\n"
     ]
    },
    {
     "data": {
      "text/plain": [
       "0.5461332312404288"
      ]
     },
     "execution_count": 20,
     "metadata": {},
     "output_type": "execute_result"
    }
   ],
   "source": [
    "rf.score(Xn_test_cvec, yn_test)"
   ]
  },
  {
   "cell_type": "code",
   "execution_count": 21,
   "metadata": {},
   "outputs": [],
   "source": [
    "from sklearn.model_selection import cross_val_score"
   ]
  },
  {
   "cell_type": "code",
   "execution_count": 31,
   "metadata": {},
   "outputs": [
    {
     "name": "stderr",
     "output_type": "stream",
     "text": [
      "[Parallel(n_jobs=-1)]: Done   6 out of  10 | elapsed:    1.6s remaining:    1.0s\n",
      "[Parallel(n_jobs=-1)]: Done  10 out of  10 | elapsed:    2.6s finished\n",
      "[Parallel(n_jobs=8)]: Done   6 out of  10 | elapsed:    0.0s remaining:    0.0s\n",
      "[Parallel(n_jobs=8)]: Done  10 out of  10 | elapsed:    0.0s finished\n",
      "[Parallel(n_jobs=-1)]: Done   6 out of  10 | elapsed:    1.6s remaining:    1.0s\n",
      "[Parallel(n_jobs=-1)]: Done  10 out of  10 | elapsed:    2.5s finished\n",
      "[Parallel(n_jobs=8)]: Done   6 out of  10 | elapsed:    0.0s remaining:    0.0s\n",
      "[Parallel(n_jobs=8)]: Done  10 out of  10 | elapsed:    0.0s finished\n",
      "[Parallel(n_jobs=-1)]: Done   6 out of  10 | elapsed:    1.6s remaining:    1.1s\n",
      "[Parallel(n_jobs=-1)]: Done  10 out of  10 | elapsed:    2.6s finished\n",
      "[Parallel(n_jobs=8)]: Done   6 out of  10 | elapsed:    0.0s remaining:    0.0s\n",
      "[Parallel(n_jobs=8)]: Done  10 out of  10 | elapsed:    0.0s finished\n"
     ]
    },
    {
     "name": "stdout",
     "output_type": "stream",
     "text": [
      "[0.54550675 0.53718059 0.54623779]\n"
     ]
    },
    {
     "name": "stderr",
     "output_type": "stream",
     "text": [
      "[Parallel(n_jobs=-1)]: Done   6 out of  10 | elapsed:    1.6s remaining:    1.1s\n",
      "[Parallel(n_jobs=-1)]: Done  10 out of  10 | elapsed:    2.6s finished\n",
      "[Parallel(n_jobs=8)]: Done   6 out of  10 | elapsed:    0.0s remaining:    0.0s\n",
      "[Parallel(n_jobs=8)]: Done  10 out of  10 | elapsed:    0.0s finished\n",
      "[Parallel(n_jobs=-1)]: Done   6 out of  10 | elapsed:    1.6s remaining:    1.0s\n",
      "[Parallel(n_jobs=-1)]: Done  10 out of  10 | elapsed:    2.5s finished\n",
      "[Parallel(n_jobs=8)]: Done   6 out of  10 | elapsed:    0.0s remaining:    0.0s\n",
      "[Parallel(n_jobs=8)]: Done  10 out of  10 | elapsed:    0.0s finished\n",
      "[Parallel(n_jobs=-1)]: Done   6 out of  10 | elapsed:    1.6s remaining:    1.0s\n",
      "[Parallel(n_jobs=-1)]: Done  10 out of  10 | elapsed:    2.5s finished\n",
      "[Parallel(n_jobs=8)]: Done   6 out of  10 | elapsed:    0.0s remaining:    0.0s\n",
      "[Parallel(n_jobs=8)]: Done  10 out of  10 | elapsed:    0.0s finished\n"
     ]
    },
    {
     "name": "stdout",
     "output_type": "stream",
     "text": [
      "0.5480480421053349\n"
     ]
    }
   ],
   "source": [
    "print(cross_val_score(rf, Xn_test_cvec, yn_test))\n",
    "print(cross_val_score(rf, Xn_test_cvec, yn_test).mean())"
   ]
  },
  {
   "cell_type": "code",
   "execution_count": 23,
   "metadata": {},
   "outputs": [],
   "source": [
    "coef_df = pd.DataFrame(data=list(rf.feature_importances_), columns=['feature_weight'], index=list(Xn_train_cvec.columns)).sort_values(by='feature_weight', ascending=False).head(10)"
   ]
  },
  {
   "cell_type": "code",
   "execution_count": 24,
   "metadata": {},
   "outputs": [
    {
     "data": {
      "text/html": [
       "<div>\n",
       "<style scoped>\n",
       "    .dataframe tbody tr th:only-of-type {\n",
       "        vertical-align: middle;\n",
       "    }\n",
       "\n",
       "    .dataframe tbody tr th {\n",
       "        vertical-align: top;\n",
       "    }\n",
       "\n",
       "    .dataframe thead th {\n",
       "        text-align: right;\n",
       "    }\n",
       "</style>\n",
       "<table border=\"1\" class=\"dataframe\">\n",
       "  <thead>\n",
       "    <tr style=\"text-align: right;\">\n",
       "      <th></th>\n",
       "      <th>feature_weight</th>\n",
       "    </tr>\n",
       "  </thead>\n",
       "  <tbody>\n",
       "    <tr>\n",
       "      <th>top_comment</th>\n",
       "      <td>0.009293</td>\n",
       "    </tr>\n",
       "    <tr>\n",
       "      <th>flair_no_flair</th>\n",
       "      <td>0.005241</td>\n",
       "    </tr>\n",
       "    <tr>\n",
       "      <th>flair_other</th>\n",
       "      <td>0.004538</td>\n",
       "    </tr>\n",
       "    <tr>\n",
       "      <th>like</th>\n",
       "      <td>0.003874</td>\n",
       "    </tr>\n",
       "    <tr>\n",
       "      <th>game</th>\n",
       "      <td>0.003872</td>\n",
       "    </tr>\n",
       "    <tr>\n",
       "      <th>just</th>\n",
       "      <td>0.003569</td>\n",
       "    </tr>\n",
       "    <tr>\n",
       "      <th>lebron</th>\n",
       "      <td>0.003489</td>\n",
       "    </tr>\n",
       "    <tr>\n",
       "      <th>team</th>\n",
       "      <td>0.003056</td>\n",
       "    </tr>\n",
       "    <tr>\n",
       "      <th>flair_GSW</th>\n",
       "      <td>0.003041</td>\n",
       "    </tr>\n",
       "    <tr>\n",
       "      <th>lol</th>\n",
       "      <td>0.003040</td>\n",
       "    </tr>\n",
       "  </tbody>\n",
       "</table>\n",
       "</div>"
      ],
      "text/plain": [
       "                feature_weight\n",
       "top_comment           0.009293\n",
       "flair_no_flair        0.005241\n",
       "flair_other           0.004538\n",
       "like                  0.003874\n",
       "game                  0.003872\n",
       "just                  0.003569\n",
       "lebron                0.003489\n",
       "team                  0.003056\n",
       "flair_GSW             0.003041\n",
       "lol                   0.003040"
      ]
     },
     "execution_count": 24,
     "metadata": {},
     "output_type": "execute_result"
    }
   ],
   "source": [
    "coef_df"
   ]
  },
  {
   "cell_type": "code",
   "execution_count": 26,
   "metadata": {},
   "outputs": [],
   "source": [
    "import matplotlib.pyplot as plt\n",
    "%matplotlib inline\n",
    "import seaborn as sns"
   ]
  },
  {
   "cell_type": "code",
   "execution_count": 32,
   "metadata": {},
   "outputs": [
    {
     "data": {
      "image/png": "[encoded data removed]",
      "text/plain": [
       "<Figure size 864x504 with 1 Axes>"
      ]
     },
     "metadata": {},
     "output_type": "display_data"
    }
   ],
   "source": [
    "fig = plt.figure(figsize=(12,7));\n",
    "\n",
    "plt.bar(x=coef_df.index, height=coef_df['feature_weight']);\n",
    "plt.tick_params(labelsize=14);\n",
    "plt.xticks(rotation=45);\n",
    "plt.title('Feature weight for RF classifier', fontsize=26, weight='bold');\n",
    "plt.ylabel('Relative feature weight', fontsize=16);\n",
    "plt.xlabel('Feature name', fontsize=16);"
   ]
  },
  {
   "cell_type": "code",
   "execution_count": 35,
   "metadata": {},
   "outputs": [],
   "source": [
    "from sklearn import metrics\n",
    "threshold = np.arange(0, 1.01, .01)"
   ]
  },
  {
   "cell_type": "code",
   "execution_count": 37,
   "metadata": {},
   "outputs": [
    {
     "name": "stderr",
     "output_type": "stream",
     "text": [
      "[Parallel(n_jobs=8)]: Done   6 out of  10 | elapsed:    0.0s remaining:    0.0s\n",
      "[Parallel(n_jobs=8)]: Done  10 out of  10 | elapsed:    0.0s finished\n"
     ]
    },
    {
     "data": {
      "image/png": "[encoded data removed]",
      "text/plain": [
       "<Figure size 576x396 with 1 Axes>"
      ]
     },
     "metadata": {},
     "output_type": "display_data"
    }
   ],
   "source": [
    "scores_rc = []\n",
    "scores_sp = []\n",
    "yprob = rf.predict_proba(Xn_test_cvec)[:,1]\n",
    "\n",
    "\n",
    "for i in threshold:\n",
    "    probas = (yprob > i).astype(int)\n",
    "    rc = metrics.recall_score(yn_test, probas)\n",
    "    \n",
    "    tn, fp, fn, tp = metrics.confusion_matrix(yn_test, probas).ravel()\n",
    "    sp = tn / (tn+fp)\n",
    "    \n",
    "    scores_rc.append(rc)\n",
    "    scores_sp.append(sp)\n",
    "\n",
    "\n",
    "plt.plot([1-i for i in scores_sp], scores_rc);"
   ]
  },
  {
   "cell_type": "markdown",
   "metadata": {},
   "source": [
    "## Executive Summary\n",
    "\n",
    "- **The Problem:** Can we predict whether an r/nba comment will get a high score, based on the text and its commenter’s team fandom?\n",
    "- **The Data:** ~700 r/nba posts, >180K comments, pulled via Reddit API\n",
    "- **The Process:** Cleaned, engineered and modeled 41K comments to try and predict high/low comment scores based on team flair and comment text\n",
    "\n",
    "\n",
    "- **Key Findings:**\n",
    "    - Stake your claim: Original top comments scored better than replies to other comments\n",
    "    - Show yourself (except sometimes): Comment score depends on having team flair, but some teams are not well-liked\n",
    "- **Next Steps:**\n",
    "    - More computational power needed for additional model exploration, model tuning, feature engineering and analysis\n"
   ]
  },
  {
   "cell_type": "code",
   "execution_count": null,
   "metadata": {},
   "outputs": [],
   "source": []
  }
 ],
 "metadata": {
  "anaconda-cloud": {},
  "kernelspec": {
   "display_name": "Python [conda env:dsi]",
   "language": "python",
   "name": "conda-env-dsi-py"
  },
  "language_info": {
   "codemirror_mode": {
    "name": "ipython",
    "version": 3
   },
   "file_extension": ".py",
   "mimetype": "text/x-python",
   "name": "python",
   "nbconvert_exporter": "python",
   "pygments_lexer": "ipython3",
   "version": "3.6.5"
  },
  "varInspector": {
   "cols": {
    "lenName": 16,
    "lenType": 16,
    "lenVar": 40
   },
   "kernels_config": {
    "python": {
     "delete_cmd_postfix": "",
     "delete_cmd_prefix": "del ",
     "library": "var_list.py",
     "varRefreshCmd": "print(var_dic_list())"
    },
    "r": {
     "delete_cmd_postfix": ") ",
     "delete_cmd_prefix": "rm(",
     "library": "var_list.r",
     "varRefreshCmd": "cat(var_dic_list()) "
    }
   },
   "types_to_exclude": [
    "module",
    "function",
    "builtin_function_or_method",
    "instance",
    "_Feature"
   ],
   "window_display": false
  }
 },
 "nbformat": 4,
 "nbformat_minor": 1
}
